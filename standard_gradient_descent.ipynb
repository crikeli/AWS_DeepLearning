{
 "cells": [
  {
   "cell_type": "code",
   "execution_count": 30,
   "metadata": {
    "collapsed": false
   },
   "outputs": [],
   "source": [
    "# Below I will code a standard gradient descent algorithm from scratch\n",
    "# And then train a model using keras.\n",
    "\n",
    "%matplotlib inline\n",
    "import math,sys,os,numpy as np\n",
    "from numpy.random import random\n",
    "from matplotlib import pyplot as plt, rcParams, animation, rc\n",
    "from __future__ import print_function, division\n",
    "from ipywidgets import interact, interactive, fixed\n",
    "from ipywidgets.widgets import *\n",
    "rc('animation', html='html5')\n",
    "rcParams['figure.figsize'] = 3, 3\n",
    "%precision 4\n",
    "np.set_printoptions(precision=4, linewidth=100)"
   ]
  },
  {
   "cell_type": "code",
   "execution_count": 31,
   "metadata": {
    "collapsed": true
   },
   "outputs": [],
   "source": [
    "def lin(a,b,x):\n",
    "    return a*x+b\n",
    "\n",
    "a = 3.\n",
    "b = 8.\n",
    "\n",
    "n = 30\n",
    "x = random(n)\n",
    "y = lin(a,b,x)"
   ]
  },
  {
   "cell_type": "code",
   "execution_count": 32,
   "metadata": {
    "collapsed": false
   },
   "outputs": [
    {
     "data": {
      "text/plain": [
       "array([ 0.6969,  0.9836,  0.3359,  0.1635,  0.7862,  0.0213,  0.8028,  0.1473,  0.79  ,  0.5876,\n",
       "        0.6687,  0.1266,  0.2272,  0.1849,  0.4731,  0.3025,  0.0517,  0.6969,  0.6409,  0.0628,\n",
       "        0.3523,  0.731 ,  0.6765,  0.6273,  0.2812,  0.2666,  0.9411,  0.3039,  0.1509,  0.3135])"
      ]
     },
     "execution_count": 32,
     "metadata": {},
     "output_type": "execute_result"
    }
   ],
   "source": [
    "x"
   ]
  },
  {
   "cell_type": "code",
   "execution_count": 33,
   "metadata": {
    "collapsed": false
   },
   "outputs": [
    {
     "data": {
      "text/plain": [
       "array([ 10.0907,  10.9509,   9.0078,   8.4905,  10.3586,   8.064 ,  10.4084,   8.442 ,  10.3699,\n",
       "         9.7629,  10.006 ,   8.3799,   8.6816,   8.5547,   9.4194,   8.9075,   8.1551,  10.0907,\n",
       "         9.9228,   8.1884,   9.0569,  10.1931,  10.0295,   9.8818,   8.8437,   8.7999,  10.8233,\n",
       "         8.9116,   8.4526,   8.9405])"
      ]
     },
     "execution_count": 33,
     "metadata": {},
     "output_type": "execute_result"
    }
   ],
   "source": [
    "y"
   ]
  },
  {
   "cell_type": "code",
   "execution_count": 34,
   "metadata": {
    "collapsed": false
   },
   "outputs": [
    {
     "data": {
      "text/plain": [
       "<matplotlib.collections.PathCollection at 0x7f1ac6057510>"
      ]
     },
     "execution_count": 34,
     "metadata": {},
     "output_type": "execute_result"
    },
    {
     "data": {
      "image/png": "[encoded data removed]",
      "text/plain": [
       "<matplotlib.figure.Figure at 0x7f1ac66ef190>"
      ]
     },
     "metadata": {},
     "output_type": "display_data"
    }
   ],
   "source": [
    "plt.scatter(x,y)"
   ]
  },
  {
   "cell_type": "code",
   "execution_count": 35,
   "metadata": {
    "collapsed": true
   },
   "outputs": [],
   "source": [
    "def sse(y, y_pred):\n",
    "    return ((y-y_pred)**2).sum()\n",
    "\n",
    "# The loss is high if the guess is bad, and low if the guess is good\n",
    "def loss(y, a, b, x):\n",
    "    return sse(y, lin(a,b,x))\n",
    "\n",
    "def avg_loss(y, a, b, x):\n",
    "    return np.sqrt(loss(y, a, b, x)/n)"
   ]
  },
  {
   "cell_type": "code",
   "execution_count": 36,
   "metadata": {
    "collapsed": false
   },
   "outputs": [
    {
     "data": {
      "text/plain": [
       "8.8583"
      ]
     },
     "execution_count": 36,
     "metadata": {},
     "output_type": "execute_result"
    }
   ],
   "source": [
    "a_guess = -1.\n",
    "b_guess = 1.\n",
    "avg_loss(y, a_guess, b_guess, x)"
   ]
  },
  {
   "cell_type": "code",
   "execution_count": 37,
   "metadata": {
    "collapsed": true
   },
   "outputs": [],
   "source": [
    "lrate = 0.01\n",
    "# d[(y-(a*x+b))**2, b] == 2(b+ax-y) == 2(y_pred - y)\n",
    "\n",
    "# d[(y-(a*x+b))**2, a] == 2*x(b+ax-y) == x(2(y_pred - y)"
   ]
  },
  {
   "cell_type": "code",
   "execution_count": 38,
   "metadata": {
    "collapsed": true
   },
   "outputs": [],
   "source": [
    "# Derivative of loss function with respect to weight\n",
    "# It means that as the weight changes, the outpu is changed by the opposite of that??\n",
    "\n",
    "def update_fn():\n",
    "    global a_guess, b_guess\n",
    "    y_pred = lin(a_guess, b_guess, x)\n",
    "    # derivative of b with respect to weight\n",
    "    dydb = 2 * (y_pred - y)\n",
    "    dyda = x * dydb\n",
    "    a_guess -= lrate*dyda.mean()\n",
    "    b_guess -= lrate*dydb.mean()"
   ]
  },
  {
   "cell_type": "code",
   "execution_count": 41,
   "metadata": {
    "collapsed": false
   },
   "outputs": [
    {
     "data": {
      "text/html": [
       "<video width=\"500.0\" height=\"400.0\" controls autoplay loop>\n",
       "  <source type=\"video/mp4\" src=\"data:video/mp4;base64,AAAAHGZ0eXBNNFYgAAACAGlzb21pc28yYXZjMQAAAAhmcmVlAABrGm1kYXQAAAKtBgX//6ncRem9\n",
       "5tlIt5Ys2CDZI+7veDI2NCAtIGNvcmUgMTQ4IHIyNzYgM2Y1ZWQ1NiAtIEguMjY0L01QRUctNCBB\n",
       "VkMgY29kZWMgLSBDb3B5bGVmdCAyMDAzLTIwMTYgLSBodHRwOi8vd3d3LnZpZGVvbGFuLm9yZy94\n",
       "MjY0Lmh0bWwgLSBvcHRpb25zOiBjYWJhYz0xIHJlZj0zIGRlYmxvY2s9MTowOjAgYW5hbHlzZT0w\n",
       "eDM6MHgxMTMgbWU9aGV4IHN1Ym1lPTcgcHN5PTEgcHN5X3JkPTEuMDA6MC4wMCBtaXhlZF9yZWY9\n",
       "MSBtZV9yYW5nZT0xNiBjaHJvbWFfbWU9MSB0cmVsbGlzPTEgOHg4ZGN0PTEgY3FtPTAgZGVhZHpv\n",
       "bmU9MjEsMTEgZmFzdF9wc2tpcD0xIGNocm9tYV9xcF9vZmZzZXQ9LTIgdGhyZWFkcz02IGxvb2th\n",
       "aGVhZF90aHJlYWRzPTEgc2xpY2VkX3RocmVhZHM9MCBucj0wIGRlY2ltYXRlPTEgaW50ZXJsYWNl\n",
       "ZD0wIGJsdXJheV9jb21wYXQ9MCBjb25zdHJhaW5lZF9pbnRyYT0wIGJmcmFtZXM9MyBiX3B5cmFt\n",
       "aWQ9MiBiX2FkYXB0PTEgYl9iaWFzPTAgZGlyZWN0PTEgd2VpZ2h0Yj0xIG9wZW5fZ29wPTAgd2Vp\n",
       "Z2h0cD0yIGtleWludD0yNTAga2V5aW50X21pbj0xMCBzY2VuZWN1dD00MCBpbnRyYV9yZWZyZXNo\n",
       "PTAgcmNfbG9va2FoZWFkPTQwIHJjPWNyZiBtYnRyZWU9MSBjcmY9MjMuMCBxY29tcD0wLjYwIHFw\n",
       "bWluPTAgcXBtYXg9NjkgcXBzdGVwPTQgaXBfcmF0aW89MS40MCBhcT0xOjEuMDAAgAAAGIpliIQA\n",
       "P//+92ifAptaQ3qA5JXFJdtPgf+rZ3B8j+kDAAADAAADACQC/Me/oQdDNCAAAFGSSlSSYiJGYCGw\n",
       "/55vFS3rlLPGBXkG0C18TD79FOAB3jxfjdzy8M4rInXpFvgjnuKSykoB0vASTrjTL2FMFKc63Yb0\n",
       "F8IvHEeITxHa/FsV+GUexJif+WCuP5yxIeo9dYUiK5VJRqQbbdJ3jH9C7NqIZM06xNx8e2nVzQXx\n",
       "3mnnpAc7Y0K9w83c91XEdH3MPO0JNExrVy+zPRaJr3BvFbI8SSXW5hv1oEHj+1TmmgUK68dKFyjd\n",
       "rtzuibXsz9kFiaHIaz/wGU9iWP6pEVh1pJN6Ek+YOOI19jBhiBnQ6AqDQgBvi6Zs4vGSctDFNgWx\n",
       "KpW6dRj7hfQY6tmwiLieGB59kVRnO7G0lhqo37MulTubC2PJvqepYkCJOA/FXWWVnSQGXqJ3magD\n",
       "3/yXn7l4GBGE+pqfMhaGJeVLh+MIq8vrg0Sf0N+pcaEtfo/+Ohf1dWqwBpFJ5x9a1vhA0ZrJozB4\n",
       "duk1UITx9Z14PYmE2Ep/H3Ke669IGW/LP3mdWvbX7DbY0RehSmB/plpP6wcwABpyMj4aipMZacya\n",
       "6ubclXKAYeuEgj7n0O92ev2bhOkVMN3jC/ooA7pRQg1AmFyl3oVtBa+lEabJSMN1r1yZe4K4AAAf\n",
       "iY0MnCLCkWfusXgQeVqUVIY1LcVWMLhGYmNNLwagOdUZ/Va5grn+CR5l8+b7Yb31cj7nTmTpRE8w\n",
       "VhMDg3YXA7v/+lzDAIPa9bF2sqYc/mX/NBshA8NDuyxgAKLbv9w1x98TPMUCVtS+aEFRxr+sJoVS\n",
       "4BKpdM6BoadWtAoGFQku1L5W+EB3Pg6WPKOvm3c6rRnZD6+g8t8xCQfZm3cBRfV1/eDbqkIIeh04\n",
       "+bUrow6ZnEZE8gFlXUu+v3OulKYz+6xavv2Wr8TAxWQHa23kVNo9faxlei7LZc2KC6WOWzdbYcuY\n",
       "MV0VlnwvenSwXqJrRk7STjHBnA7TYFPPZ1h+/AFKbLxeJ492aAAda/i73xbcIsS7bCbYgsxsMQtM\n",
       "g1OWyJQ3LRjh9EuTUkuG8Bj2IJTtvgBfCQTNNZrSTdr/Lmpe9NxT4cIhQhpvaFwe4+WVRWq4KP3G\n",
       "rtsKP1+/wo/60Kl4VqXRXPr2NHzwm1harIFQMZnAilyWA1XFvfwgKyrLtGlSox79N8j4bj6NDO9h\n",
       "2m9/88h3bfA3NAbJbynxJaCSL5pZQhtWDyZCR45IbFf4wDAQcKR/AubaXw4fN60fIYwezoXKrRPu\n",
       "hJt9yjeIVd5k3DEUrDKP+7nhG7kbSKAVLEFsTTqPAlDXEGLu/G/8Rn6BsOU20/nvXn6NTzijQMbO\n",
       "uVV4CUOT33jYwEEL3/LXs5B0cROdeg5J7MIwZI5AaY6qGsN47/2jB9+SA32n+PcpnrSIhH3n84sk\n",
       "rk2QatE0LB6a+R7wtYbim5BQ9MCyycfqooZhehNNN3qApaBsKJ76R5WFln9MCl3Kiq5tRvS/HbkE\n",
       "8Qd3sB0ItItSiNUPIQrLE+mS8J/REO/Ooiny7zEcK1gO/NA1aekairmuTrPIUGXv8qQfxcHx+sBy\n",
       "oAe3DYJW/9ZY5RXtVNOlsdWZlk5U69g5VCZW0AwSVq/fmm/vWz3MxW2fOdOyJgz8y8N922qc20Uo\n",
       "Xvu+pX18HaCX8hjsKcpKskVCFaM5Dm1A2oUD75Q6Lr5J0p75cNRDiSb4DEO+xmq/McvBl980TQ1H\n",
       "b9CBLGE6aGWNv+q0ycaXh9kKylC7JfYn08ZfrUxIrWlNaNBSfS3yd8yK35Ds9gXVSsIemVKacdj8\n",
       "D7+LDsgFZBORV06Q2jh6ifAwoG0H9/tsDmNLcVknNoa5LR9fTCCoO+NQ3hLPiL4UqUOb/Z/qVRPA\n",
       "i298I6QQQ9ylPmBPq78Gi0/2Jn3G5HwMpP2J5YhxrElmoyYUDU8N5RNVEmv9ZOjSCYAHzxUAwIks\n",
       "u3Ax/aJGkHz8AZogE9hMSousXmIhFEOCdljleMi7owEQQ3/Ygexd3Qe4OUonbRW/AZdUf6ClD4dr\n",
       "1scr/In6ShbsOkynSKvKJCQC2ThMOOB8vCV7SF6JVuEh/hPhL1F4GnD/3yRYVO8ql0j/AgUhum5L\n",
       "OwEVRntxNHeSfmd3cHLDPwxwid5fiMqqyIe2R/NvB1nLHTYkb3Q75fhvM7wBt4Szg4gMzBIbYNaF\n",
       "DJvZnbhHydSQfkFEM7nrP7mKSGXz/Bh7Pg4m3+4nrZccrWXOXQVCuGeOYC/ccMomXUG6azovOpze\n",
       "pp1A8EZVAr/gPkYHmKmbyOc3wMKNx6DnpiYEPzJVGZ7qAwPZMNmbNmLf/wpu9zqi2BBPfwgev/ce\n",
       "bA+3m70izguiXeEitnspG4BJf+v6/zuVIGDDV9miGZVHqy+GGmGnZpFwdH8tUvxZBqMt/C6JXIiT\n",
       "z2Vzg44xejsr8F01lE9JqCx32zKQ2SpUmg5lJHHjkXsy524LtD+I4j4wHRPPfeQ9MvQRb6APIZCw\n",
       "kPFIAo7LO3pof8rYOcjsFZnRCKoem9+TiTtC2GfuOyNAoE+9ky9Q8B/9Ob0WjyEXF/7P4ySeKMMI\n",
       "/m1xQ6H7hBo5HeTlcpAQCxqzCTD67CBJ73nwCa+I1iVFCLFc4rZizpTWJ5LoecQ7zprMQ4xIjC9K\n",
       "sKnmcSOxypjB3eJysY9D8ymJq9L+UM6UAtSDz6w1byWUebzpgn+9pGnXllxGvdM0qlwFZ8bvqNBA\n",
       "JKYco3YN0VA1ymTQIwYjaIQDZs+MUOo6gRWTA4AZmWeX+N/c+scp0GnsRLXSJkTpnjYDB5JGc+sb\n",
       "Ts+UcWDby3cqy4AdqcKR482/Dv1ce+0A4BaX6GlpswGjS2+W5afnUe2enNylDPvzdoczuzgiSliC\n",
       "OPYaILPhH0UDeLgs/eILRCIzMXFNmC1x+gQhGCC42b0GaF7w2/D+V2BNuA8NsLTZZcrUTD2gbLy+\n",
       "vCUpeWnyD32VMz8RTzTmSs4kdSXtXMKEDfhtdnOItekpZC1kWGjUnel6Xi7m0DmlBnJnaqhdaXUz\n",
       "HA5mAMrS24kYvgLy6meQy0BKy35FS74Nuao/E+KXPkA1sl+b/i/LnQ1WA+Y6DhjVeQLIgc3JTZlr\n",
       "nJ61CzNTl7J8ZDJUyPx/ATYjUhvQ/lcYb+mFDuyEeo1EXpFlVLa3YM82N3n8NYT0mtvGJjdhbVPR\n",
       "9YYYZZlig36STvfZCZjR+pdOqAcvoVKsAj9xltRq+uMlmmp3eZ1Ye8N3GUBQTZmrdXpYMo2CfNH9\n",
       "T9ct7c29j5vtXcMFXgiJfeRIaIAU+8IguPkmo/NJVbkdWdaSO76xuC6SkOuSNxpyEvpPrhdZAKxk\n",
       "UEYARR7EiCRMmH/t9vw3AH2+frO7B//tV8EaHU8cd0DupuZ5XtRhp8ZdaUR5zQAU1qhRWixzVZpr\n",
       "Vx252Ejsfb3iBy8vN1zw49ZGJ9ScGcWPziwLvp4buXgFbp6LeTioKEhS4fhYKNeBIbEIt6Ik/1pM\n",
       "yeiDUIHhcg9NyaEOFRPbu5rWild8dtwklev9aOqvm3+p9d8JPWFpI4KKyrJ4td6jvfsOmwFQ+OXR\n",
       "m10PWXZQadOsb9MxyeIRf4weoSFqbyRouuWMbg3bm11mVh39+xB0S+OqeWAb7Z/CAfvPxzXHMpN3\n",
       "pif1CuOfZzJc35YEGDmHXU9LUZy1IW3E6zLsNg7QYqzyK0bkx7pwbiWD5sjJdDIEFPiN2XW/JAaD\n",
       "PNq0/CBTvlPdutwqEPhQdWQdKEl7GZWWOKMj5J/vpMaLNIk3bdO84ktPzw344okA5EX03E2AO+h8\n",
       "gcK5AN6Rn9Y8nHkIGTZcRyVX09rehlMb4GxPowJ+MOXIrqNhZQNzH4BnMZmw8pefmK7ntKvGkhuT\n",
       "W44z6IMxakPn2VQNR+Uy/YRnJU1y1XaIP+Xh+0ljP8zIaL4QL8I7wmWJnR1n4g2jFz7+bGm4VtgQ\n",
       "EeJtOh6I357nvcraJoGej0oRK3DfVcRsGBJBhpM2B8vOEkVvlG8s3sCdTxMitNhdyIwAfG22a+Dr\n",
       "28GDF3ui5E6HmwxoOXu9qxS0N3HCGYqcyUutSdSi2m4puJE/oGgLTm9SDFTN0DkXLP6pWiUAxVX+\n",
       "bq1QN0aOj6vOBB9rVleU0iOmdBgZd9RN3ZnDpXkx6u+Pj3hg+ofaLvJZOxw0wSlynF8/RPZ4/N6u\n",
       "q20x606cf+RltzB7GD94dfhdKlQasOLngi5F2ul75qY0MKmJiBP/cqph8m4+xT6rT/X2LrIt4CzN\n",
       "jtww57yGFFnlV8km3EWdpZWN44X1AaiQy0fG4fokti+PpBIc2tpx5UGd0rHF9YZWNyMjr/bipOay\n",
       "p4wLL6vUNlgFs4o6GHvD8IV0lIBIhR1ul3PostTIFh+c/142z7EE6SdMiXfxYn8SHu//+BPNF5iu\n",
       "GY+jtC1QlGbvHm1kfOhDg1L9OTLmPJ2X25VcI9lySjfHL6qv+eyzV8DWDQKeYg5H9cmAmqMzMZSS\n",
       "35+XmJLUKH9hlShgdz1iM1SgJ+0US5ARXhv5Thv48hFHkYDLiBXd+LH9Xgv4wBlPDomW+1gxAvSB\n",
       "MImrFG2MGyPfWoBsMNNV1xBLh3wnyniDYiD1Uz4PEXcqcERV23HWuWtGx5o0JUB13C0zxInEgQd0\n",
       "wlx8sWxXOpxu1r9PbZQh0pGNB6OmhzADLdhpi83iY9vCY/GhqtQWEpqtfZUC0+mspLs7D9O3flhL\n",
       "ocBsZCeh8DfqWZi3enxBFrsOkWk7Sc0ylhaRT11JJ9p44JEzlIdKXoik8VHPXU0+10vSRM0Pv1Vl\n",
       "KzgeNEPNBQM8VoM2UkybeURxSZqhMb9zIRMq+6N7Ve3wLC4/3CcuAD8336Scl4WWtEOSEFDCMDvb\n",
       "r0rSVLkDluXSDE58RCWmD/d0gctzrqUjUbvXI67VJ/n5jnBEAQHcTsBa+xlb67wfenz8Ecnotuso\n",
       "8aGw4eOG3uiAYfRSW2OBxM7jgYP0FGmi+0YKN2cwI5Dkjd/70ycjJQP5jWboHOgzNcq9oiU1KBQU\n",
       "HPzAxJeDA/VsdNBLocyoM6hZjlh3GEpr/5cul2tZgpJGCllC+AYwP8fepCUowxNf/54Bqhsh/xQj\n",
       "qboqR21jNVarfXpvlcGnw39+yVRWdPB55k9I22FopzmPeNDatPhSD/Pgj//0qjwOjw5pdyYARspR\n",
       "pK11DdwH7nEdQDjSxC2X196y3Cy0dDVe5dPeY8e1f5UM6VXOV8L+y48QDeQRQaNV9kUpgB/NklOc\n",
       "VGAHQov6kvK8aWXE7vjzBaCSmfYZqtWHdqCz0mnmzJJV6ongCF33cQMHaVye+HG4dcYkFLUaQidD\n",
       "Vm4sZ/Cr/0QzfQXBE4fOK4dQkYNmjuEhekrdhbcyaYdeIBTVtlSCPlvmqXE6JSSkMMNcjnl7X/gU\n",
       "hWDw+mNeXB12JE/t6ec5P/CYBvG6AsyRw4VDDLjtnS2+fwLbm7JbhaISfJXgwkaLkl5A9zAVT56t\n",
       "20Gquvm4l7bPjcuq60LFKGTq4Mv8EBo9X0enJj15Rrei+gL1XJYcv0Hn9WE234brH23UPCkCXbCF\n",
       "4gyTYEsBD5ZmT44QuK5FYRuSstgoSiAxENVt2UpmKA2xo5uAHRcB3Fum4Yws2LoFogOK6gbvYJP+\n",
       "9ZVI21n34lG07CmsKdWF9VypaC6HuJeukweX2/l29ERDlOsASE5P609w/UVrwAknA6pn/Cd85Nux\n",
       "0iwDwA7lGeKp5iDVSCNy703HkckJj1YWOFOVRHtksB4ib7nTYCiiR30bnADN15yT5LMmPQiiyfpV\n",
       "b1mK6y/sCsT6bqv/ZX7SeQssBQNoZx7snO1sJxYWwY/nYocQS0X4hQj9GkIoMhqfx2qDFoNF6Mv0\n",
       "PDb6SShtpyC1NO93Cq4dYwBWE8lsdn2ctaCiQ0jBQymkQXYzeyp4wYNy3rYG1oVuP1olnu6RAQ2Q\n",
       "rww0xkd4eIL0c35qGOmHi5G90jzB+JIT0tnKs3yftNmwYiDfwqHL+nXopVYcLAOFrVQZPqtJ1CWj\n",
       "5xAWhXuVcuAJqWpSWnIcAAU05l2vbxWYS+NpqeRKW8nkfIhSzZpwtRiui3LmiBvIG/gVzTkdQRoq\n",
       "EoIN2FIFne9T1BDLEz5JHH3n9/w++2L2bqxOgAYqpu8h03B4cAJgLkgAw05VO/HM2RrkW4EpndL5\n",
       "rRj/C34arHO+WhEeQa9pU4y3ACSQ6YJXZ2YpsCpOWW3MXlXzsKPTWRiS1dQ5UqeH8SJWpOTxKNu4\n",
       "GzlKsOH6WJi0qaWxHI528bwEaLdITPbuKXMnJT2TxbatyJDgxYMn5pBPhSyRBVadhM28fh1yp6TB\n",
       "kZXE6EKo1LNPgYOnp82rFVxUEcnn5b7/KanMt9/9qsKKYJR6bYEmLNmh9A+flP/OC8/TeP3tpY93\n",
       "1ztD3kz0ZGgx9KNIKN81ETh4zZavWuqEAnEq/lGl6++orlVaJAo0rkzAmIdZJudNKkO5hPdOska5\n",
       "ujXtIdAOt5ZRH479RApnA/0AWKHAY+YBgOxBN83ouKe3Z/DLBUYCw71i2//7wDZPavE37i+OcCrK\n",
       "Y8eIBlEInlwg2MAGJiuufXBIgxrOGw/5tuCgt3cfoau4qK9R3bFwU8UcZhC7lHpY2tp2WOLJXm20\n",
       "Zo5keHWLPpcjxEIhyq6jNVzRbgxjAaMOy3/6BM2syG6lMt10Iu1qY7LY8/mNRK/XFYBUzpquBewH\n",
       "ZA/IbmSGu+a3IoreEQNdFZVt70YnJiNxPJscDIfz0Fp34kl98+MIFtwthSm9mylwfTU95HMpZ97C\n",
       "ffUHlzm7wpv9A7J2q69AWpYdnZVHQzNig86unk8R4cEKPyaqgQcBiQaTKPLPNTlORdW5mcwTXivB\n",
       "ACiqk0O9ZTBVVqiUJCELBdnaqT8e8809jqZV3AEutzS9R6Y4nrUfy1LbZ7O/JRncwTPfXTCPGYdr\n",
       "Evbdfg1DjQVbqEtJenbYVcoDwv3y9wO8JyB5of9BIVmBFn3P1CNkdMFgYvQfwqv7C3xqz9QYUNVd\n",
       "t/cXioCATUn6WrpP90HGOYeu1dwlfFQrB0Nl7DH3QpwV5vEuzoxeCjqZJ8I+3m73kwjikPhCB7V3\n",
       "rXNll0RNvfk0eW3ytJ/epIysFYj1ifeiP4e5clxmvhlvlU/a5VuFuw0T3wog37Rnvkw5m7i2RcK0\n",
       "Yx3Bk4deVzbw01uYi4OWpbLEstSeesI9hTqgyAFTmRDQ8o3ZF2P6QkHhTltL7KnzaZNFvaLsh0rJ\n",
       "yp0OWGbtlCbJwmWVjsvhH/x2uU44NTmauyV907PpQzDTHDUFot+bR+mWEkxylj6AiIMpmAS5sCJa\n",
       "JgLw1wcYHMZJSRI/8QJXkgkVQZ5PYx7V57LqUxWFN+9LOKwUf656qs9w4k6gtYKK1/CegDHDoYpd\n",
       "ZFQ6Llqw0hSRnOzyRyqb3xULbwSbaooLmJF8e/BoPnEnniWj9Qd1IozraexUUIxlfqhXv7bYw0wF\n",
       "Cw4qEbnV/lqEQltYR9HvaRpaRwZpDLUqB38ZN7M2zr70Cg4LoPVwjXTkftJiIuCChdHKsyesjR5H\n",
       "TWhRtTOAjwQMV905q3ejITuScfSBPz2meRvjTF6j6k/hRT/2yO75g0+D3w7tKvFYjp+phtxFKWqi\n",
       "8a85DlI0enghlmP7Xwfly8LA3dWJKAiTJwtHCXGpNE9zDphwXel5MG3jvbb+lydIa8bzimbJ9Xyv\n",
       "FmSm5gwFFNYdm65BbVrrlpwfWsvqaRGs+bxl4NDPn4XBTUMLa0uHQfvoU8I4Hdgd86dvAscnmU3S\n",
       "P8wtW45346o8vBxjQEOTjVmjjyVT6zcgN3vW+KW+sY1ZDZQMunBSXT5Hc+HJymiTlzqLSt9htvyz\n",
       "W+UzVeHRJ3J5Ilx+KK9DwzLaMgPHuPVQxZZ8IXK5bAFV/KhKvoWAiWEVOqInIUCRFxf5pmkLZyhb\n",
       "L/g+ZAHv6+E02Ooq3paLKgOFIABSgUvr7ZM1giPU2KLGcAX+d6syY+SHuAla3DA0tBFS5WjBIaip\n",
       "2PUxnxEbVIaaXIFf11/QWezZcTkIOMiC98Y8GV5nT1GvihNsODPIh8PN/GvCUzgPO26Xy8MdDqJJ\n",
       "FD7MFbuxXUqUTyRPiYcKvrO1Z+h1l+b30CPIpqdZl7vf/WJvbVq0XwhYX+0dwIGJRWHMdkXBMejQ\n",
       "zx3tivb0n5iQRSqEnCwcNeb9ChOz5s0g2/dA7VcPfqICy7BLxJHV4H31Vcg60XQQq3ZKpqO6+9KB\n",
       "b2em0FbN1bgq6LtLXxu9xuibX9TGICD2DfUIQilxzSSXHvKjZ9Deh3Y6woKNnSM/PkWGIppOH0zV\n",
       "h2fD/gwdg8kwp07KPRTL+ZzYWl0FYUR9jCVO97unMzkZLjyZJk0KlLMdG7X6AAAFpOODvIl8gBU1\n",
       "R0RaRwuAB80AAAajQZohbEP//qmWAHdXy8BBKpO2ChXvfsp9kOtX11l/b/VK/UUYtxk06AA04KX4\n",
       "w29MDFovTBchhIWh/dmcCEcaYXjPjfCI8z+g15MZUTOx1vhwtR1D2111teIzTrPGesj0pm/ubigW\n",
       "ZypohBf+ofKod5FPmG0uB1hnGo/aJpkUMh5Q+316hQdlA71qBOa2pWMqWBKAheMEl5CNSmxaDHUQ\n",
       "Q38aMJ+zk2rRCV+TM2/73vSQmr+afqIRjGHKPjVVvmlq+oZQlvREyoRgtJFJLQM32nOk0XkBBhy2\n",
       "6QUyF1+v4viPo1ApDzoYBvQz2NwoJaD88T8YNR3d/es557etLZpltemAucskVjc4ULPU4uORQ2cu\n",
       "b3QmqzIj+WnXG9ypD5DcxseJ93MZa/3BM3xWRgB8M+7zsYgaZMAfLqzF1s9RY7376I9SIZOMiTDY\n",
       "2QQqXXf6rZEb4NPOy5QUTXjWzH1FJlFtdGCCMSw5XIdXBirz1tyLfp7d0xy8ThI1LPDVfRXW5RRC\n",
       "FlZDl6EopxaViSgF/XDv88ENq8pexevw7YgdCk/G7qkWWWhFOrDM1P+Qf6ngmBEklnUGPsK8tBcJ\n",
       "gVdxvNTE2nDkP2Z9Rmhyom1avWiVEpZl1iPApIWqdXAWwneuadXu1jkUf99emdXF9j4ceFfEieKM\n",
       "GgniZVRdoL8ZIPZ9R9CnwR96Wl8SjpJmsu3vrLEgSCcAIppAmdf6sYqz5/QPT87qzHMwH5pcb1Sn\n",
       "fSaADwAAbnJhCDCFU+Pj3/XyRSqEHgSrekzoacOvRQnXxMP4jgjEcWXCxUvAray+fMCipFIa9jq0\n",
       "idKouhdWCv8+qxdnSs1Iws6tdiygCMjB4UbvrJMJpiD/HyZDFLJgwhi7gTG/nYEZuTgKqRnAg2nA\n",
       "QEm29ZUSsMTXphG/WMBWjnKHRkv4X+T7OCHMC/DbznJrD3YFFRNi5Y4EegujGFPxa8If2ucC8f00\n",
       "btaUo+vahHakOpCH29zx6q+P6csM7ZRoi93kKcRdo/rNZExaaC1UkiFPu/O484xhEtJYgbp7gZS+\n",
       "haNQezKSi098KJue3aWyFUBIXaPl/OX6Zm/0EGPfmHKAi+1xO+IrPTxvp4LdSlvS8qaW26IK3ox0\n",
       "4OF5v4eLljQt4TJ5HRxqDBh6Xj7WxgnVx2RIrRomHF1/vEbB/LkGHWtYPaRRGSyiworLpTtSx1Q9\n",
       "hiApDuHrQLPLw+dAZ/2IPYLWrRlNe2uX7p1XCCQpmykqoAOAvYMySOV8irZMyD5r4qq7OyMDbVsh\n",
       "KuYA4AjCEb10nb0wbyq3/FCVEC6lnPMLqhXX3BNdocUwLVk7CAZHiU5BZAsDLVUCXDKSv2q5TBWT\n",
       "cl/DNLGcW2TeS3tXepwUe9UgaHfwaEbPNTsBHI6iqyQfMQBznfHAO1zLyLsyly9+34X/0eteWOqu\n",
       "f5dqNJijEvomy9lThv4nCLKgbXwlkl60TdtvJRjI3ZxTjgcyzFoy8WOZ2rNiEdQ5wnQ4lHmItc1p\n",
       "0/XWHr1qK+dxNSbQ///vfQBymOirm2jLd2dai0ueXV1IbaYiidSBstGqSiodc2UUGW80NaNH3+IE\n",
       "BMS9yqI2LncudnQEPjBKgtIIwFcTNG7Y9LnyUro9X8wHcx48kOeB1HsSyE4Ms3e15giyzC8/ttq1\n",
       "lA3QuFhp2Y2Q0Km0ixyFD4SMmXrkNmEgJYmjRtm1Lm7xBHcCkaLfvpS5IhAIo9+KpE2SCwfVHkvS\n",
       "6VUHEL3xPmGbOo8nsv7jd/M6wIKPnztWYBGBuACJddOyNm9p1DJWX9g4MxZzyFfzKjsJSF7nJPb+\n",
       "jpS+bHNf8BK1joELay7RuMeH8k9uXtVpayhJq+y0nC+gANJppx+lxTfadOal9udG3ahkFBzuzXTo\n",
       "1EqMYLWFnmfK5N7+NT7TP27EB/og19RuTajtOF8DxZ4SEagoeWnRgpAZ6WlJMk9hgP2ZC1xup1iG\n",
       "FA+agdvVSw4WEA5D3+ifQHqfjag17AY/S2zJEoXiXcEA3XxMcAVmmT9wgVN5gFBBoVVhGvKgB8DO\n",
       "CwUt4XUU0S17ICieekyr+DRwipMDNbqzzD9ny1Qw45bSOjJzj3F1AIytpkbMJMxgT0wbjI6HK4yQ\n",
       "E7cKY5X/x3CJ7SLfZR79R5+WOMdyH3Jo3jjOGrZECPyhO2SPu8+qYNmPPn6icaBp9JghocCpV79B\n",
       "gV9VrXA4vRxQMzRN6EU38CoBv+/gTZZLllQnqaX132XwDkMOMqKzB5XpoexvAy8uCA2Vaq7DYEPD\n",
       "UgAAA4BBmkI8IZMphD///qmWABOfmJolFTs4rGff4JygACdvilASWE8RDGy4HfqhJMTv9HBTqfsk\n",
       "lAHsqJspG623UgdX0jDUuuG7MXsnL2dUUIOPQ7HVcWR/xx2BVEzfzJ57+Axm5wpB0sNefk0NK/3k\n",
       "TUvprJp2p6VI8aTeTP5YoEsU6GmIZjO6Z27ju5/SSuyQEWc+nojjUBTzQz5gqvBTGQ7kkoXa8bmt\n",
       "Y8jdOqqa2riypUNmqy4jQV/XJZdxQ7EBfR8rcsi0tcUKWSPH8+jmJiT5FgjWWBo7sQb4wTgRwRFN\n",
       "mdIQfXB1qMJbsmkDPUHMJir+F/S+4sVyM65rw5haYynOQTBVRgEo23fQVQD53kbWKZH3yb5XPmqF\n",
       "IIMHZda+JD9dNYCHFiM7rcK5LKgAr2UmVUJNtLH5MWkfmsCbybniOe8wfHwdV0/sbmj9/V3V5FTZ\n",
       "bSNcP9mMo7pDY/Uo0yS02rgxMz2Muz1Kpyuk/kOdy3sDs9XLAxMEEv+k2pCKbFr6HvzqJoQZrjkm\n",
       "M13Q3PgdtgBCjnsSZGYf2nc5H30xfZAYo+D4u9tiRCRR7Q/YFb4cd3MRJtX+zNhjCwgLiBoGSrPY\n",
       "nqsVQT7LcqezmOxBY/aTbwZGYvPSjRi98kjJvFCyvrSulijKhQQm9WHrsqjbc+iyjViAgvGDh6Ir\n",
       "rlSVmkBnapK29tUQB7a/KLA7CFW0sc+ThDNZtbgePj8GTa2jnnNSbbx28K7Q9QHm6hu0BGIqyh/R\n",
       "aI3gNePVRzlj1SwtRaoY2jV6abNveAaiRDvWczNIr5dV19gUMnXVB0InfAApDxrSyheo3KmpOzkv\n",
       "sBSKolpG8KWFJjZ73RtbitGJsfLgOVrzQ8FN8ufkWkPQUinFRoRIvvw0ghIBW660Zj1tTpMpnudK\n",
       "98wAZbGXqH/EYLF5E7jSymrn7QB7mqfnUfe4bsLh3M7cufpp1spLPAkoP5lgcUGz7u0WfQC+j6uR\n",
       "ZeFChHUzQADIbckIlVw3MU55i+t37bfA7/QYm+ML/y0ObFRdFfrN9X89N3B8iWL1y5OPyBvxdMLN\n",
       "gWQ7CwQO5jW2F5/Xwr53M/Yq/0xQVgOwEu8wp8UhMsACOCq/8qRF5b8JmuBxfbD0EhUUEsUf/6jS\n",
       "0Z/QoMXCFfkBHnvmlrQLvwqFbopnMRlb2Aa4PVt07ngc1nOsWAAACqIrpL5QQQAAAy1BmmNJ4Q8m\n",
       "UwIIf/6qVQAAFU/qpFGEc8It5DkwzwddfwgZDwAdmj5Ki7vuMqr/v/esANfxKnP8i9lYyjeMrGwc\n",
       "IwY7av3ngxw5DqLpgSUQ/8wYEIITaFvAEJO8A6AXqWRVcnqN+cv+0e3y//Y5uNtbY9czoXr+Vci4\n",
       "r+3/L820ZCdWn/7eJgDIQGf94Im+K39mf/8vlkpsL4R/8zac6wrbSEHJ2aFwarrM1jak43rtYwcA\n",
       "39zC1QOYwyJ8AAw8ByLHdmW/tzuvAnaIoe1PPHK3JFWXDoiXnFTIQC9Fo2qa16DsjUYrOByeL14o\n",
       "lbmkY+uwVK4CdVOUOi8sqtP/hJT2NYvaTor6PZb4dKX8IMazGUd2UMWaholxobeTbBfWib4Q4oV9\n",
       "CyJhpjXUdmOCFtbksyEA3Aav5G4vbYxEPkoWyeyAmWohmoAAi9hwaxHqHtdC+rYXHb07HCnxRZHM\n",
       "/YkzvlInFkRDOAi6KIxLX/tl03K5clm9a09X1u2WDHKjVp1HRlZHzZtQqqPpB1X2WFnfVoWVifso\n",
       "YMs15wJkGkCQITsiMnVvwWB68mLwrUPIHJE/+TycXjcyfQiS0o3wkqYYVt5bjhA/wzg3C2r5X6R5\n",
       "1KZVlCW4I0ieCf8SnM3E49feLgR+wk4VewrUj7GWkzPXqvvxH07Pp114wyXKfMAeAD9vRYAHpVbZ\n",
       "nULRgmQa9UfnYJ/izzOa/MSfXjpQIh32Hr7jmYa1KDLF/XxCMaYT3/IzV5+hSJFv1U49ZJ4djj0f\n",
       "EpMEHrEKzjiT+elxAyvqHwHvh6zrLcsZYv20EyvpBV2UnQHQLpWFw7e3JILogTLH0L87MWJeJBaX\n",
       "bNc5/YDdKvH0s7//+sg1SR06BlcIIZzOlKsWakWnS6HuzGHxUmGlL3jXokorP397W3zdUArOikcm\n",
       "LdMyUpTdbPK338qCL3awi0Iy7zyKzpA+O4Ae6qGkmmz8i0SI8BJPJ3Qny8rDk4qdJZwieJ0lEgVa\n",
       "TGGCokeqxfBKo4l/ASI+VCvj4rG2Hy121uf5kzquzRq0eRl98sQYdbx7c2LKsmzU3gWYBlybSI/L\n",
       "JqQmYaeLidgAAAJGQZqESeEPJlMCCH/+qlUAABbe87ApIsNUvNmH6NgXoSN04R2KmhKHgCgWpBla\n",
       "r0EabYejbatpBNaZKEahJNG1+ss8pjBgWzFYDGBUhWk8yJ/QPx9LNyIvJMh3/at/M8vI9q8PaLyu\n",
       "q8jU4Ycj2pNv8k8Tn6Td3C5fXgN23G39yu+U/ILHxr5sc491TYtXLupyYjxgKc/SPRdiXNlV0qFK\n",
       "ie/SVIKpI7BklpKJ3Sps1Wd/aNEOpvPVH5fCi1A5PF8Xb2d4Z7pzwZBtRIixVUtrhox2BlZP0mEv\n",
       "gZe9V+CnquBjf/p74YlDMyw31m7SNY1CZZAEkbdKOu0a2Vrp7ayr2T3HZ7J5ewjm7vsfQf47KVCh\n",
       "I/SPGHViO/P/aC3RcfdPGpW1WL0JLkQEIgWLwnjsIWspB/4HdsHhUiXBwvKnvs7qcJLSAClf9Z/F\n",
       "J9ICjJ9g2g+NIDNThHW4/Fo8TLRbUtFZDnFUwRW3d2sH234XLWHiQf/Fd9z/03iRdJR4j8QpuJZz\n",
       "iYvxNkdwUsbF8F0iMFyQdRFrzwcIAvK9H5Q+6bwq8nDKEqj7Cd3e6qTUMEisGI5D1kIbPY2meN9G\n",
       "hPI92QuYktwcuccGst+vuWqB3GtRMD7lQ4HoQub0j5rConqCIHJEIAcaEmXZVcpRn8N62bhLk+sg\n",
       "VIZuky22oN7ngp5P33mNRluu0O2kxfVBxXRbO9OP6j51tpJb1qFWDB+c8o5ApjI8Q35U2VlXsHen\n",
       "LFquBkqkXRmoCeAlhZ+agiEAWuYWb3KrAAAC+kGapUnhDyZTAgj//rUqgAAZTX6QAoN6ZM+4PQVo\n",
       "aAgSYi0pD4b4FGrnYZmIfP/wK4LnC+SPy2EKtF3GDObmtz0PJo2CqYrfZ9STBBSMmp7tUk3ecaK5\n",
       "edwG0gjGpE042+vVzZjtx0flhW2yaGlVmmXLM74BScMIyZHq2UK7W3phFj6fv5XcMAjGGAPl6Kav\n",
       "74l4HThSE0tgUIwgzXpSPBg6+YjXfKLzIf2oc9HaNTN9JIBzRaNjTjwnDfyIn3FKeCQWenBFYbtK\n",
       "VhuNW5JTVnsgyHZCypE76YaZF8vXC24aMi0DucY5nUl6GH/lpoBD4u8OS2PxHQynyOIvjUC1J5CZ\n",
       "i8bxHBXIeHEphezsT3yL5m8voz9vOeOs0rCwT3DVsx94TG2u8R0uxtNhMVnezM9KLmSyNCDV9OKO\n",
       "bOMjrkTHxBvOffNHSbYIDuTzsGLbM1OFZoYyuZNqWXE7jFC3BYkcwJpiNzklc0xbkKG2G5fQO9VR\n",
       "n/Oqqr/prC4EbzTpUQ/bszmAi5wyp3PHu7EAxFwjKOTwwAGLMf6PhH7dJvOApfvf81dOthq0thA7\n",
       "c3Mg2ALMpomfsZTxrMFbCuqw3C9yc01EfuiuR74Wy+U+001v7a6ixyvepO7PSF00VdO20734t5P+\n",
       "7It4kdb6KEBP0cJaVWW6uZELwMD1bL2lae8tkhjg7JLoBdHO+qNQLp+KDu4cR2J4AGzvWOFUo/+M\n",
       "8c3BgS4r9Zxii53KLFAgyasSGgyq2WCtVypaCISF0nSRxkYahjJXtRU7xcprLkRMeFV9IgH/aPZJ\n",
       "dQSREgYkPj83vgi3PmPRKSXeHzij+MjPYkVgdydAwasMuZ/jXC8VWe5qxeQzG0wC6xXgmOGP+Dnh\n",
       "B6HixtKaSXbldcabV6xsOwMiFp/2CZzUIMrYGMDcx0hCL1y1IDZ/TUsqJNpW4Enqo/6Go5XHWb+A\n",
       "JZ6ktnS+ssEQW6prENYAMd9m9y8vcKf0W9ZMcGfh2Kh5PJV7fVaamkUNsUnDZQBXwQAAA21BmsdJ\n",
       "4Q8mUwURPBH//rUqgAA5P81We7jC7aHGdrGXXazOL2I/O4EBwBVwFq5TieZZ7SmfSJJE3pSDITW4\n",
       "ybzNpc/KDNq6zoKweZoWdeq7al7Tt579SQwANP4C20xRyy6LhzZEpBwCG/v/2pG1dkS21xFvNBkJ\n",
       "oXhqlyYz2s/2UWPv13ZXRhhXgkouCStjgX+QWesKzy9Qw26B2QPOMe/1NmM/CqvtlaEDEs3lh/jH\n",
       "DasYBPD9YZoF2zPk8C6jiZ9k0R7bfK4ZyMZDwhn5g8BkVSaUijDe4WvazZri2PDkH2Y2WM2D+oBW\n",
       "FrU6ZY9H7ZRT2BY7Jrp1Xt5Su/rPERi0PHRprkFxi62nDIcgnqgxjcY5PUvTj2ddYWVt1x73FWiV\n",
       "otuF0eUWVXQWQ8vRhV0zdf38IKNIDDllAUBdobNmb8irF34peV3VPOXAdBtfCYyf/huGhcRr+vq+\n",
       "dvmtEvLSyhvFaQKf+ckeIiuctJjxnzHQEYYKWOyXgxrvoq8V+tca4l8+vl5WvjhHi+zrm8VmIdlR\n",
       "bdwo25wvy0kc/uPUNJBEGqlEBm7fZS9uG2NBcbCjom/tP22UC8bnZZ9PjSZriUPETvvjm8FULeBk\n",
       "x/WIjBbqWllVwehsy6+vZ/ePxLQ8nU0HJqY6sEP/iDgB+Ofq9ENceH6j+ui2+U4Ix/XEqaSyX9j/\n",
       "x4aUbPLfrsLceoYdQfZdRk7xH43uJNPUaywZncinBxDjO4VBzwWq2ej85PG5hVQoq8bfidVl7JzI\n",
       "Fh6nFS/Zv/itWTriSsUfYJ4vX0uUwz2oi2axdULR1eQfySGI1ykEGUiHf2UYADCoy+bzGc57KMK2\n",
       "ihK/uTAtfYbljJge9rgoQZfTueHebYix1uie2kiFkcHmRM4DEG8X7WpTbIse7nDvQ/pNJHMJJcfs\n",
       "wreRGcqzH1YjDG7dQt8bgVJ2uKW93qNe+JNsQKvOtVkw8OAnCU9g+Xk0ojbeumDWPJZ2MRPbCqvt\n",
       "4OYa/FDNSBRQzkpVYwi4ot+YLHOyeVyOPdLkcrhG7OTA7Mo6CDU8AyJ59KnIH1+e4H/FBdgY9zPM\n",
       "MqcAn0oYQFMFzd7lWG/fuCa8mW901Rs0UYAUuHubwccGFrlT9ekMxewizYo/avppJAy9hbXnrQQ1\n",
       "y6SYXMbZLydrnhwFWT/vhMaBAAABhQGe5mpDfwABNa8pF+nDLgBx4zhtH1IxUyh3htnLSPat4Q72\n",
       "8kEleVzXo56BlR9tZ0El+PvMur6DIM5joqiDGesilm2JV55COAkBhzEieMwffszNi26OW1G0sQWh\n",
       "gmA7dh87DFcR2FYtPcpLjioCHTxRyyH98zDPo/r+xtCONlcRgidO5+Fvo5iK7tcIp9fGVdeMmKNZ\n",
       "PgizH5Xz6VSjlN3ae1uw3OtX0VIJN52WMBY6sLx1pvjN8auDQgc0eKHNTGP7lr8SAqJgS2CAV6vQ\n",
       "mdnXCeXK3GU2PdQK6o9QTvgIrAs26V6Jp9Xj+Hjk97U2QcGIx6Oo2lixsbmycRfvDF6edgzuoLzS\n",
       "B7p2wEW9Qj/5DmNIueAUKfEnRf+mlw7+JGfkNGBYvHfv9dMoJpaQgkyfpvvyYLfOgHwT4cq7l6js\n",
       "jWrbdA6Kai9uXhCGxx+5pkeSo6SMBcLmQN4FmZZboPOkL4IqPBMMIqgcedIscMni0pJt/7ZZvqH+\n",
       "aLKl7KnEhaa4IARdAAAEa0Ga60nhDyZTAgj//rUqgACANsSGbcZOv92WB+tmFlGML+PWm6PyG2H8\n",
       "oajtRI2iVAX86qPULRWGkqkWEhKvmAkqnb3+oF/0igYCc0X9ASbRDKaFlevGcnnLTmHX05HTEJfI\n",
       "wBWHvnmMUgN9KovFgrawOZSMlobDRKGeMWUiTuWbkFFqwJlTjWdMIfw2/Z/v+MDCHyiNPGlrytwH\n",
       "j6+IebeirJXsTjeuaqEzEgOQnspSAw0TJDKFSCFWqPsqaoUbblbeceswifHJkYUxOI6fdRjucmbq\n",
       "6UsdD04xcjjVA0DNHzXwrbNEFRn9+AWtnrD65Q0gQS2aS0roBqubOPm27eIfBWHQac2dB7LecpSa\n",
       "jB57Zbk2hxl8Is3oDy6cbWSpwTBGeIfke0w51DP3SfzVDRWXmDrJDFsc+ujwuPS0OlnRNHrifFLt\n",
       "/QlE99dBfGwVk8CH5LewkwAbqzk47U4miQhGcrjq2zHbm8uFUT+vflxJ7gRCkWTjY1t8ZAdkw2/X\n",
       "hLqSA5CDk9uLuQpNEh4bQLyP7bx/DPfMgZJf2Xcw382dW0wYTRFzNpSDWk+loS97CxxdnKFhY4B+\n",
       "BMFMvyxfIAANEGHTEGjvRhAAcBQ3uipGCddFFWimchdrz9u4DK2UUXjszBdhQ8eKFLapz8lfd4Q4\n",
       "LqUOJqoFw+9Qlkb7uP+q7efNwhdv+uWBfL1ssJHCdM12m7wo6YgSazKsoFHnnEXf7f4dCSwjRdWu\n",
       "fYPXcaCSu7fR7MEYd1L0CX4eRRy56yLKiN7J/W8D/+2cbsBvxhayfeULIWQqXjdCfqf5kqDFMgs8\n",
       "lNaoflrAaLnikPKtAPu4VIFjdw6YS0XgHHvMFQyW4LI94ahZIsI/HE46CdgrS6nKPUBKl9nmxB2y\n",
       "7vYzzCakguKH68MKB3hBg8/rhTHqwBXorNEYR68HA8eayYxunjcYGgmsWPDwkH//sMDlQoSot5e9\n",
       "EIxFsCBXgUN5xnEBqdMc733FYKtkurmBKgWse71dq9fe1MeBYSXGPNHgxxIwpnCQpi+/P7rp1GOD\n",
       "snsw5LK+jyACG5RG+AEMO8nnk7o6HyPxnscpxSYFLiXcBc4G1Us1PrWfSR1sd168YqtVuBVs3gOL\n",
       "9ku1nL+H29dgXqe0mxDpQMFeHfJ139YiKBhFGdSagp8D8kNm8Hp4HpvxTHqi2+vafZUdxLmKBRZP\n",
       "FzqzgGTxe7zxndEFLrwkWik9BAAsBxNrMXT3E/DDiIhcI6iwQcU8Do77yUPRkuFNe8ZFsZBxrfm0\n",
       "cgqPMrsgRRyV3Si5xtWKF5mEZqLboUxUIy9IBnbNMhKLcdXnRo8Q7wUbTHN2F8fKSDzc0XAxo6iX\n",
       "QHFdDelcUT8w/USJlzJHEc1vtit64V/0sBUwGplZf3r1b41DWp8fpfRrA31ALU4Jm2j8YULobEAU\n",
       "8IzVbx5wCN/y1DI4oVYnfnf0JACKBlRlMZMeGEJnB7wfOIFQU+tLnJvqu1MWWQKLl/TUkseKT/bT\n",
       "LLSZV4qpoAAAApBBnwlFETw7/wAB6P7tYJovogALaQiQkIrkXFBexbRa6iRkRCM+Sb4vb40vFck/\n",
       "BYfd7ac+tj4gaL7sYWjMELZb62vfKQ4+WeAXWPAOxo25cMZ7BAEslJITN+J4Tiw5c4l/YA6OexID\n",
       "FB2vkcpFeN+wBz/7on4+AVXb8i6T9tLnAl6VARAN7bIZftKjhdw/ho+ckf35coMsdJcSWND+dJH6\n",
       "gmA1yymX8NYV8YnmvoQGPrwDJ2y7+EEv3UjUcc29KMMfHIocwaBE5lnvMLyLBiniQ7/DaHhHyebn\n",
       "cQN1y69O8/Pg1ww8KJ+iorb76DewE74Ahw2JjjsFs3Fd+6pJnHqPhcqqp4iFVEfs60XEffiXRvQn\n",
       "AQGtP27wQJP7vQcMIL+sEX4o+4LhdDS3dkCExLoHLKGohVDcjoVFNgVCAh+RAUEtkDVU/3hUqRzh\n",
       "dlIAdZLeRNjRV+9SCSIVcqEV7AunnooScSw/Hw8ZV0kcfuqmmWb+RfBwrVBhWVWCQO7PFgCtDsXW\n",
       "1Cdvcuio5r4bDvbDYIsXeg5rwp103IEyaZX9xJrPKxL9b5qeq/PIIxAR/R9LIkN8vJzzBYDp0I/W\n",
       "k6JaW9wHwmxNp+vXnSmzN6dXTzFzgtrcWDRTfov43fu2yPJJ90VcKGZxqhYaQTQUWsZUZvNVqqeN\n",
       "8Rdp4+5RB212bPELuoLoiv6Q80r22RtGLn7kVM6uP9ySR1tcKYRwg3M9a/tMYpv7udLcsFIJPT71\n",
       "tReWBDHnONCIA3Ql1nwfijrxeA02EL4hwHgDVj7ZefQD7zUI2VGWo2H6tmHo2ilS0bg2VrAr+CQk\n",
       "UlyxpzR78P1JsDzpFSgU8dYTPVWV7qhSrVpf9eRWrzG0sHH7c88OQgAAAf8Bnyh0Q38AArMS2O9+\n",
       "kt63+mUpYFlXH88yAAnIkTvXIP8DOXJ1eI17/O+Rt7UJK8L/4PQu/gxwHJGz62JEl2FrVMIebtOg\n",
       "eQji060tkfdAQ/qkYp7sxmVJ9skSv6MljBFfAp6lwnWMWxB3YKQ3A3pcBzHHocWMdzui0zzGmwRx\n",
       "kUrpt2xSuhuZhdIDq7rYqK4GKIITED7Tu2ho8MNROg+KDgCq1q96CgY4llzwrSNlh/mFlPs+nzlL\n",
       "x65zUtI1TlQqvc61zC2wHC+u7MEgnIN8bfoNevP+SM9l9+tyIIIhvsDaMJ9VrpGgIE/WXpFBbr+k\n",
       "N4PApLvCcEZBg/Wts14/euIQKWLBOFkuSYKp6de1/vQ7pLvrrR+AIHrOXQjv5Q5Ooj6d16Nw/Dol\n",
       "eFcaw3asX9GFLjs+Aj3Z3Kc6LklZSKsS9GZN8h50wEQDlU+5HI82gdh+T16DdtjAWFVcKXKPZJJo\n",
       "yGNPW9f72GNb06oSJeZVnN8hfaJ3WuoA9sJp5YKBT08fd8McaxMR68YgvBOAzWiCGwrr6MnXXnck\n",
       "Fd5qijHeZhQ1P5eJRft00pXi7ANi757vTy42ZHvBYyRR6/tvHEAiTxMv5iuvB0zaE2nLgl9JrhDX\n",
       "NqXQ/r8I9yCtj5i2aIWNRm6B9p9YZFVBE5qmSfvGRH8koAa9o7lU1T4ZAAACEgGfKmpDfwACu8qz\n",
       "Bav0yAFu9ga13hfZFyvr0ne1V2r6bXlfdT2EVse2iO0paS9MZUyG4N9Ja/+DIwLdKkf0FEFLsGcf\n",
       "h0rTtp+0FXhCa+frDPBlHkl09r5dAEKArQqXd2RJqFaOtZCq2J5ZUdYUlDu2sq+a3vlT1gzhTr52\n",
       "CI0/RYs3wJpun7JQ1jV3/EAZa9iupx0f2cAWVO5QHNImixnC/sCXF0oJkN65AqQG9X3gNZNuHX4h\n",
       "6Xo2Jp0uaFWfXbIqX1HNg4Y+YTT3WH43yGj++O1iKrUX5PIc6GMJnWedZ6FRqCPYp9zbCl13mjeX\n",
       "H+6lVp6IEBUN3coeeGV6ShTL6lgY12bUHx9fKRJzZOGCdCknL9RB89gkv3weRlF9Icc1c7Fr0sJE\n",
       "s7sD+RJHiP66hCCgR2rpWXXFytH8CNO9EF3fH6D/24ZnkWC65iVNWEso//so4tPCc89NS67ycu1T\n",
       "EafQbKTr7SieAqLaT/wAsIEQuM0vmS29KwYIdOePVpxAJp95BvsAKh1W4dKqiFX2qYU+Kc6YTqma\n",
       "rp9Rllr9hpQzy6qjD0WxqWGJVljk6zZ+B/3umpn9aivlPjkl+XcNyFp66yZW9VRC13qF83qe2y2K\n",
       "lSyrdfUh7DmBBs8zBIXY4n/LDoYRubUhullJrrCQ0YaixI9xgTuYIz57Sk+30aTyGu4c3we1UYdi\n",
       "myx6i5OAAAAFe0GbL0moQWiZTAgj//61KoASHwRoDMc8XggmFgHf/6iNBQAg/Qep0q+sLgIhPLik\n",
       "sslZV8TZ0ZXL/CEkue1gl60+Ob4L8CtLCtQMwpySR5XUtfhNx8ogAvubxpy1WdfchXr81Q3UUa4H\n",
       "TKNQcqT0rRgYjWpfLifzQKcuunsnhF6zVf49/P4yKYODYlMod7/9D5Rt9WCeMKHzbMKXFR0MEkaZ\n",
       "WikN3o4o95a5PAEGAnx0kPQWqB7/2wfB+lzTYY6Wj9MIesVQD23GqdO7rXP3YKy5x7A/nOmpuaCd\n",
       "Zc+QbQSE+q8pJGxnwYuOTlITHUnM3VjZIavLMEVkQxryLaJ+ScmhkjRQ8a5Q5z0k4jEjKyiMBTIm\n",
       "nRZ5keIZyFHXtzH9IJBvNQgdF2vrf+q3L+YTs9ttLF2DgdfsCLRNxBRd+FSbW+0KB30usXXURx7F\n",
       "wAm2Tj/+XiAUhv7ZtOc2lt9CF+3psUerASEdp7YOhRfeLhNA1oX/p3o0Vll+f+QQoWc9pvq/g6kY\n",
       "b1IwT4oGfglag935nEbaQS+k66/lXe4QabAfxxF2MUu6ki5pKPujTaZoYuhhP/WlDNfDUVkasmnY\n",
       "H9nexdI2yU4uIgXZQeCN+hiY/1a4jlQWv5AMdo3c8Aipd/Xnxrp8KoU2u6j1jjcPAhd1NXoBek2D\n",
       "vb8yNJ/x/gITTWRXPkQN78tRi7Em1D5FqN3ZFtIn18kJ6HrODJ5QdxMpiELdUqvpcKmjrQPKrT+z\n",
       "xQJeTtMFH35vCCkmVi3/DRFY5D/mN0qIQhuFw52o8qxs0QMA1d5Y6Zm26+QkyMO0Gvt81R1cNM3i\n",
       "Doio23+a+Q5o2QfKm892HLFzDHvDPE/ghOqckoUo0mLnXhUh0aDnjBFyVetKlie+3KhzUmgrj4yg\n",
       "ctbtberqiKuplosqCio61SWORTqVAUBt363XTp3yCg9zVj28AO7NW45S1h/p5AKtfynZmh45/L63\n",
       "KsyAE6m45sgX171dPQRFabA1T9ZanjPefDXSq5AQwH2K3U89PRsSJZ4JEKwXHODFNKCFS3K8ynQ4\n",
       "3uXCDJ8XEfq10+g5ORzif7fgg/MDDaplSPXbKTeeffKEzEyn8RBaicQGWQvRyLl17C3Ffc5WJYt1\n",
       "L3Li645Cox7ziSKYbOdXttp5Rc8MgN2Stpl319XYPB513zyi2LamTZ9+b3XEcL5u6vGCakpEjplZ\n",
       "o4AITRxqxgznNihbUJrT03ApF83zeBrpJUdm0hjIlKrJyprIf48naet/+SsSZCd50bj+u3GPhrLe\n",
       "w4hIBYvMN8H/rt9lL+jzhzfrKwkJ3ZhCMof8OS0UeJMM2VWw78UX/A2JOhppat6pW4W4yiuOqbFm\n",
       "jcmy9UbtQamvLXZA2DeVHYWCE95WcO7lCtYXhh2H9+5UicTRO3GVZtBIQyvgCnCTwrsLjbmZ644n\n",
       "P/ekbrV0jG/gqGKOtH8qXc8T9XyyfXO8XEEvcRbZrLbUhLOV6u6SrpXm9Yv4NlWLQaaWu4BBHx0w\n",
       "2NtncoZ2Nsx2Is3PNhqCXYjAzlUGLwBgXO0H8b8rqiwyt4GwhADyAPpSpgsMqZWbKGe6ZiqstLMe\n",
       "GK6gXaUL5eFEujnjK93fqnRpHYJyKNccs4QswwLe3ibjvsjR4TDcyzH4MuNXfOai62v34zr4JPrD\n",
       "8+K0MUI55dyI4hkEP4FJLjiiXlss/p8Q21MuvjxO6Xz3MRMEAJlGS/30oQyJ1C2FdaufQZnhNGWY\n",
       "yL0NqronBDREt9rM0i2qoBYsANrrAK00Pqeq5QU7x1EK6669AjIYyKwwVjD0pkHvx7Lzxj5oz8qy\n",
       "jwhfxoyR+6hK1jYKO3o5s+NRKNkCRGfLbv8X/A6/WUiDeJ7Yry0SOczDABfAAAADFkGfTUURLDv/\n",
       "AEYcoFALZMysZzyRJN9wAQNaZFAP3WxAdDIqPj7u4B4+gkdzFYyhk32Xa6vyiiFUDMTn0x2666Ah\n",
       "dPrRqv1PE21Kp2XZHn+z20HYZHHmORua7DcRouE/1WmU/EuSd93pUi5r8c8lbD7ju6rZ9pvwW0Dt\n",
       "N+244bOkqh8NvONJGM4/izpRJhRbzd7a4SZMphymsYCqFhKSq4kkO25SiwOHq5Z/tO0sbYavPilT\n",
       "JaEl9JbZiRhC6XscbEVZL6MHMcMoIP4LaFy0+N/jqkjCKWpjhzGzWHM2xVjnjgfuPctswerOShT/\n",
       "8i286VrQztd5EJ/QxjUOFfw/a5I4p+hjjESo7uzYlzR5VaM7+gsOYZH2SInMClKWkkwA+QRwRlXn\n",
       "5d0+hwkM9MkwcXhzJmVpXyv5zGM0SRkwgo8tLqdSle06ac11q7V43YQc2+6h+sGt9KsreL0VJsXf\n",
       "3S+ZifAcZdgyQKW31NfCiuZT19gLmq5jABsvm24CQZQexC6bBWK7DXBR1gVnAKxrZ3noa9bQMBkO\n",
       "Plb6FWk5qyZT2MgD85fRyrZJTjRGOgK4h1FrLhneyvzJ3HTTQuva+pxvaUCeAIx3GfS0xSjiWIR1\n",
       "bGP0q/eRdfzfBlmXnVcuQHlSOUwphLlEdWfdFDswFZ1avjUsrzDt5W+LQV+G8z6DwJnDsXwmcoLi\n",
       "NUQOWJCmI0D9dg6LRcgwKeO87HQowCi9/yVumsrm1gysww/2AF4V9EpknL/MLaq2guOniPBcODr5\n",
       "iVSKHWJ4Kr28gEl1VtIDeLpU/V2yHgiFOmZ3VXU1mD1ERkefCTPvm3i327tXSaXxK1a3VMXMbRH9\n",
       "Fhq+0l0Uf6cBUWaaLrmD5TufAvb4yxN62uh7rpxujJ5cLEPqNtz6oj9ZVgAL59WTNsKNQeH5SFwE\n",
       "wbk6SMfBYJp8aXWBHTA9ER+DxvPFbE91m8ntzdYdaV7aY+F8JXm/wlo9auY3JgZNjXTxytWtTxGY\n",
       "MNVf4xINZCUeUU/dSqWXZ7SBw+kf14Utm7YidGIuDHUqyBm8uH/QMIEAAAHdAZ9sdEN/AALWY+x0\n",
       "PUfKgrTpuLp85TjRgAvr3fTgV1/WOsxzZ98hFkaSsctJ8/hxXy9r4z907Gxo1JYt1o2syYaH8L6u\n",
       "Lgr66xYEMJWvDJ35NgNjn9kZn4814+nxvTDcg7T4BtZL/ZgffHVXb+0bjr257oqWGrddVAwM295L\n",
       "UVfniKhmASaTxt9Fcu8+v6DSdKDZeOcztJDhiTXMRkR6Env3DmuZqw79TSFh3zX/PbZ1lE2Q1qal\n",
       "LZbT2I9vSrSjGcDKzPhttAVCfBpuGMaENJtCZpdpmTs7xHdsYI12ZJYSmK45zFimPEB+P0U73dPL\n",
       "JtYob/qlTnhnYTsTs1QKtwdN3XoM2WKcKhHZDtIYyjZ1RzXfIUx1t8/a3KMbhlw4CD8EDL90e7dL\n",
       "Og5tvbZZqjExY7e6ikJGohCF7mwqjr9piJ+4xNpanTGBIFsTaAAZ/yxz0Qfd/VkRFblV6asDZaN5\n",
       "1G12L5KhUZKd18bN2WXzwjd6lUi6gONGMEPj1abNYXgE9UfL3y1d8ACzcj8p3lB5my35LFiWP2kl\n",
       "6UEgtDg10r5VBXofinrxb0h1lyEo8yHZdOawiyoR4tD5dgATOWzAZc5amQhCr6sZil7mLd+V7pzv\n",
       "hF9rO52xU9OBAAAB4AGfbmpDfwAC01pkjwmYgATst9eduDQqvcRa3owX+jai6xHc7RR2p6gYucqE\n",
       "lji8idboQVfHcBnrnyXgx7Nbv+g7gcQ4ioBktEIIjNOJ0S7ImFz9v6Donb7XnyOvPWUuVr+WReeq\n",
       "+zTefgH5KXOIxgTm9uC0JaxVSJp+4meeQ6i4EH2XGfMOxpYmVOeK9cXJENp95kuFiIZTxKGgbpdB\n",
       "DrjQ2A8SbLwSax5YO8t8e94ou/+YGUtWXujatwWOtkj2Fm6QywDLP/wkce9XJAfsQcagurNSPKdo\n",
       "nzIdC/1mWgyzdL3ZddtnIPfPv0EuWwuaIdBMYOME3fOiqF8Oe/wruPQHm5RPO7fJUYDZ3HPE9L9V\n",
       "s6mIweuZsBWpMB+Y0z9Ir4veQpAuXRS34ZJZ4dnWswYcgBADgV4SeX7f8/WFoBEBhh5FXFTqRpep\n",
       "oWT4TrgX/H54UakCTP8tr3DUds+7Oqkr9mcTJJrWfsqwhy8n9FxFupARWyRAX1PHVbpIJt6loJ6j\n",
       "oSbY5srn6cOOzGFJnCygbZoNglG6eq9qQL+ZEiKc+6X4mKecv8v/1S9Cz3LJ2oocynBJVuiptSDD\n",
       "aZeIq+WJlw4o2GRUB+CRuTGfNon/bqkSWyz9IgUH4j+3iSKkoQAABO5Bm3FJqEFsmUwUTBH//rUq\n",
       "gACAM0sfgAcQqDMqjOuHYKdWMoLMbcmeFFMLZ8GizIXDtT6qfDaspLtgJwncMRBur5TnSISN+gF7\n",
       "uNtTez0IrQF/rXmJSetF4tk7021oy+cWRYcFfSkSt/zmmZQrLlzvyzpN9xm1ll/NuKjP7yrJDP+d\n",
       "iAK1Clcs7dJWWJwhQvYLycu7OinKyZswPQx5bbGRwjCcgYmLBx+kjjc340TlpwzOz0n+GCneAWvV\n",
       "naIUXXjMG+Akm7yGWw1vrKC5CNMxJLi7L9O7VMTHo0br2C4ecgii8I/kRxDVRr0Ye67b360B3z6e\n",
       "QllrIdWy3DVm7mvIFDSTAOr0LQTSuT18Gpf3FoAYZd0aofi8mOIkim0mZmbkqmFO+wZ9/Kho95J1\n",
       "ZlKUDheiTmFNBmwARx4pBfPBVjLh3ARXuvCCes70dvMt1Aait2d//6MbJVGl5wSuYDVxHS0+LUTp\n",
       "ar1YYvq1gXHYyNJhhleo5QD2u/sQv3r1B5/F1DvSMuTSkKLqqdBbFOgGbvJVaQxnl8K0LQ4GkKAp\n",
       "4xTe4Ht5UgRCODwuRBNG8h+C2vX/OMNrMFYcpwENJL8wfjOEkj7ptF0fmNvpyEHIVqigpQZdqpcO\n",
       "XOcW/uy8mWiPK052CHIaxzgbjDsEW7IUOgzwTHlGepzXdED3TwQJr2q8VvrEO+rFgG7M/QgsogGi\n",
       "kVSIgBppVoctGIq78RkTAaWE9mkm8UJDtEIxweYfYI2gl4rLX+jcBY1HabSME7JbCDDgsYdKnPF7\n",
       "fJL0AFtogrsyTTPQC9xhG4YnrSftvWIFNb1rM45Ugu7D5r8LmisAOWS3YlpwPPOOdWBtVUs3a7zh\n",
       "Ofiu0IyBGTOLDqfLN6PReLA0VT+zrcnOI/kbq22CoSmcGkNNI1Gn7Beok/wON3e6WmQEXkccoICj\n",
       "He3Vb65ZUi6dphrlc1JdPV2zbjQRul2SfGpQuRYVbI5ekgNPFR3NSQLCjKXtwMizntoFUFl8rKkY\n",
       "tRndkISlbpyyfhPUCBZ2xV49o8ZlXSOZfwVrz2ahreknz7Jpq7EzazeVx1ES8wRtLcVF+VvP6EMp\n",
       "lWSHrLRhcNCS5y34fJRrO7t62wYG6K5YrReunMuTlpE3xg+aSBUsCPSkM2m4MmYvS2AUfCeTpETa\n",
       "lIRhaJLbQ9eDb0I9R3wvf5Pq+PLShwtsgCa6tTtSYeJFwxBmWWKQNP6EkH7I70yf/9Nwe+6ERb6u\n",
       "jxSyt1a3IaHIjApJob8U9bH80kr/crnmmSqWOnqwAhvNp0i9/enMr3oPmOcRZ/v5xMSxvSohBqLE\n",
       "Dj0WpJe/ktDWriYpUxM2cYCPDZMudWSVvgSqojA+98IAi12qP+7+LPbQ0BA39t9hrN1uh5BFK3BN\n",
       "v2LIlH+clKa0cm63w6ySKtPuoHTpyAI5AZs2yX0oU06r21hhUZK7xhjLR5EK4Ah/P0lRMkjIZ1uk\n",
       "CvS8bnL/9RF3vnav6KfNU8VyvawrPtmMkfvxPtq1gkBefmo/lPIY5Gck3sOuoJqqbAzqd0bNurna\n",
       "rdZ3DNrW64sVTEAyaPFHztRelSQAYX64USlnE28cKZ8WyyGQ+R3fdj/R5LrAzYclCwLfXXt+ag92\n",
       "XUGE6gO9e5njDNHKRwuICcqqNSDabmV+2pRpT2JzYyXH1sANuzsAecho3aOsj4Ds8AAAAbUBn5Bq\n",
       "Q38AAtboMhEjlkAGigvgnYQNAfOo0jgALwwvtRmI5Ee+ypD0Le/Zf/PxpFhEobe/oaV0rT4n1IMN\n",
       "Kr3M9kGEL/0Jl22gbBMiG4Y4YB0XkpgEwUGzPa23wUQfCt+FRymFRxgjVFaDwKPGKvx1WZ/VvW8V\n",
       "pu3FAAbZYFVQd3FKiU+G2i59W6Wt/QuwBUy/4ga3Qkq2zO082gy8Wz56v2kW/IICobHML30hObmO\n",
       "Bo7o21r70VcoJmkV4eH0wgzxWuWC30PD1yuPJMTPmB5J1G4lF6rxGl69M1/Z32Xt8PzQccE1HBSL\n",
       "WN7nAQddeyHOaEttuD3GKeJzYv5/5OXP3UdMUZer0209Bnmr9RvFd34VI/hILwgN4Ae7jzGcmcuB\n",
       "2HhBnWIvg/lHBr+9vqGx3iVAq0x2RnStizRjYCRY8YFXHlnZgRCDuyJKXsxKwN2nnfBe3VyXNkCh\n",
       "25Kn9/pWuEtiyc2oRWmwJeeUjCX/Mspx1ZrmgyB3omua3Lkfz7OentDp1qM/JGjZLTugicidmUaj\n",
       "99OUOfcbqsKNvLjfnxEwhXPhmurfQd1y2EdtZFMPMSA/4AAABQxBm5VJ4QpSZTAgj//+tSqAARhw\n",
       "RzAC2kZu7kwObcgyaYd2Unr6sG92YZvevheC/EJ9yxaji9YoxJ4pyfWHv+/ulaxu95VJwPJUPxGb\n",
       "F822h88QPInL7VyRaZuG+7d26gM482cDLVr7PV4vzAbLBXMK5bO0aMTJFR+iVkoSTsAAY/Wful/b\n",
       "hhoGVqtgrC2yN33qBG6H/ChTyGec/8PlbqmSL6aPNzL+ECyFh9fmYAjFt347zy9bxftF09EdUyDW\n",
       "9xGyOjw2hZroRETZCwfYJryeI8y/hLgp1FR3ruoWMFD7aBCb0L++E7FflV7x6dcNLP0pAvcHNibX\n",
       "XX10X3aD3bWZN2GqC4luGWk0lxr9WRiujRizon6sJI7azQ/TWOIHMKFueLP+z/Vl6fe64YAqZDJI\n",
       "oe3Y4eCVWL4UjyyYM7MafAryU5LiiubSBJ6RRMfgWYgXY9R+ui9UP+iV/hcZylBnzWIljx08FOrM\n",
       "v2wy2jwAOzLfSfcphkPvVWMtBhefFECTiIKycrtuhobS7gOJx9xiM0Mq6rN4IWu6ijcRdHqV7T66\n",
       "frGBojbQOErufb5oHuAKRQS4C35HsQgzi/4YgyXITVx68s97IRIcSUFYWMvbzsqMcwJEjGEnr9+o\n",
       "Hg+ev9OZvodgywJhYoZueD1srBxoWvczF3AohlD7+4EpOP7NnDptTFUcmPifrlkdrqn/Gd/6WTN+\n",
       "b8X/T6al+v0If0psVo58U+ayQnFDahcS1lMmKq704Fv9ACuEYN68f7I6T/dJhDNsUzlYwpHfZEP5\n",
       "44wEP9S1AB7oY4PxS68GshURVcQO+/kr50jYRo9BaM3pikOaHL+x9Tcpnl4gWgZXfICMLFtEjTRa\n",
       "Esyoa3bAbJIe/0pb83GkYzg8FVm7CnmdILpL2Ozrl2vGOiJaioRY9Hb46TGT3mfND4WSpcEZk8tu\n",
       "lF9zwWuyFi15QC2nNsb5EP8vi9CojDj8Rr+VeaTDpZfHAkZFvEEG0PpCYmLRVxxEH/QWK7AYXkIT\n",
       "hHLRIqCkOApwIyypNEfxKX2RWhaa2ga/Vv6mYuioI9jQZBV7eb9f+RegJ3ACTz0yjFh5oj8s6DcB\n",
       "R/io64MpRR440b5ux68Ir0revUGroyOfolQ42wWiFJb7JdaJ/JfduOP4++QG0yxSi33Rx7CAbbAk\n",
       "zFEUy5SJ5hEYP63VkOr/su7MPpYCn/zlXPzjOI0kZYrXkOuntTzzuR4l+Yfg9zCiYPPUQpzGqxAM\n",
       "nJ3sAnSZir4EJ4G9WN0VChh25emVVHNOvMgV39f87yA3FKeuT4CP2LtEE5/wRyV4Z4kexB5qo9MU\n",
       "qdrPDSs4MlehQUCeBZX0w5M0lemoCmrrg2vIX1Ma6t80STmE1xtR36KV+hFJOg+6yio7N7b9yZm6\n",
       "oJYStqrsnJwpHZoOCGYcEy92iJ2bJLGgLAUrwGIgvTBvUwI7eJ9pdc7M2WOkLh76aKGB3VNJBA+E\n",
       "2TMGJeAdy9yvvAFkysm77X/o720IpZLm/4occTH/2VbbPMTwWvzexKBcRJ2Aap3KvV+aowTLVEfq\n",
       "UW0yewd/R0uKCauQWRwqfVEswo+Vac4e5yc17jAdBGz8jIXPpz2ietLtCgjL9r25T7z7q+IRBRq8\n",
       "ZNknrwLmIqSiixwf5vZDNiVIfh1f9FHvL184nLvU6w+1tfoAfOOXIAKQPbHtKtX4q5YE5QWncnCN\n",
       "BEijBAjmho/ZA8et2+rZ9g7KwQAAAfRBn7NFNEw7/wAEQkAN3o8x6ACHZFx1ZxfmBMVRm69dM6Ai\n",
       "cOFlLUYdNEbduH5+TkWde6Mnk7BSv1GIiPn9yP8BnTuV7fbcMv0GtnQx47B2SLaIynP5mcyVSMrM\n",
       "trfIp1VlG5+LG8r4hWCkK2oqkcCJwssQRvDCRZvCQp8nr/bLUit1yWcoYhCmob2F1Pj7XWLxMKO5\n",
       "fnLTJijLYNPc5g7KXPBWrGriyvR4gpqw5uwNqmWEJvkKBtQr+63uZt/losDecXVs6TDRThWT1ET1\n",
       "VMnhvOzb8SJwAArAeiIX9Hgqq+HiWgD4+AyqIjzodhlcnyNevf1VJg1XmT+fHdFNUXsrGb/We7u3\n",
       "H8Cr823niB/SGOcVIPDppS7wIvoR8IG4ie3ZfqMtxQL7BeJZlAWwgUaJl+ydATq/XZt9j5qBRLSt\n",
       "kYlUUtMvEyrHhqix617tdV12vMFuHkd5H6JWs3JKV5lYbI4xvvPktg6WvUMQMx0b98gUYNqCU5LG\n",
       "Rih6bEZLs1qi47fThrB98DVt4kEgmP021jovJIrGAwJ2z5BSG2fTKIiFan6UtnCVSAYhENHDvgyb\n",
       "kaxOKGI2ZqKol6YGcFwFSaoq5b6Mxx78d06HsQOKtlNWjRYwQxaWddfPK11lt4eeCQ/xensK9GTr\n",
       "ltD7j5jr/dxRpQAAARwBn9J0Q38AAukSE1a/7Ja0AuygBMxN4y+tOV350qUngbfrU3OzTjg/Nag8\n",
       "YNlWL5Leu7XDzt0uqUVuxmb2UtlCiG1UniDR5GYaf8z5oAfD7wD6Aj4BpRN5vA5NccndUnAUbY4E\n",
       "nS2DbF92ou+YOitUsCTm0ETd20Rr8SQtlFRRIDKHWpiPaWQRsVyQ3B/W/mYfEu9C0fb4jQFYTq1Q\n",
       "jvxgZgX0OCona+2cMBF49aAe/bahQopTJKPXQJZgXrNkqbE/aLvWDXPH0znotkKXlXy5gxIdlZZM\n",
       "wJcNsW/Bcvk1Cs33yMRswLqz0nDAgytCntj88mXRDZGTnylFXeOxFq+MBaFMjx1JBS2ROPIbV2dv\n",
       "UtplwLexrgcKvMsIwgAAAPUBn9RqQ38ABiTykAF882QP34OV7UOJhDr8tk7MwqkrCEmm0Uv/B7Bx\n",
       "8A5di+tG7uY4Hf2WACoioZnJ/cpDJQ0mqCYH4OmY3qPwEFm2crhi6WLqHel+bhTmJ4BbQPaVzpRS\n",
       "0d7HNhF9C5I61rwbtvz9o4ZYO82nEuGpsv8CIPBDxRyPwkcIYdKujHBFYpOXGg7uPbVA0xWverk6\n",
       "0XnbP8LrEilVhex7gyu73Nz/dgf+LzCgi1T5clY/Bjflo8nc+FTtSRiUei31+C7dlPWWT+SOtzSM\n",
       "XPFxT3Ekw3AVbyDkOFznC5X/j/iRg4d+2qh0/vZBbNWfZQAAA4RBm9lJqEFomUwII//+tSqAARhw\n",
       "RzAC2EdXJIAXeMGVvLL8E+1oPjPoDA4yVXYw2vcOS2/j7CPDVRbeziE/bhCFCatysyDeUJ2W0kLB\n",
       "9Y9u5pAv+ht4z3adGZW48yNU4FBldm9DXZWHMH1je73sqOzqx0ls9iCOOqdiQ5kFireULpq7fAYQ\n",
       "2LGOa7lSixgQXqcpj5b9KHUmCcD0gtW5NSL78ROBVpH+ud/s+tg4szOL/nSdM2+3h3InNUAPjbPS\n",
       "xGyzsrR6YAAChgPh7vFMzXzqkK2O4p99UDkY0rPfOXABuYlIXoj/c+WJI6LFD1DblDOOMwl9SOGl\n",
       "JGEIFpgq3o+eQF72YZWy2sOLoY7PiwpydQJN3LEv08ZEwAvSy0NEp0pttpU55ciFTLLzGBYooO1E\n",
       "Q/otMGvwhYsz62a1427grxRMgKt3H7f+219un14tKzh9F25BEoXmJd3JwMsBZ6tTDFepsRPunTP6\n",
       "OFcnFEHDAkDLktGqGGRQhMoLA0gC3JoAjqD0tPD9reA42JSwHwc5goGpUUCJt3h9h6hqMm2L1f5d\n",
       "H2HcueMrLnNgxHfzmXQksE2ayVME4n7M927XpGn42HF94Ky65H7Klr7JKfvcxTJR4ZrFpceKHAcX\n",
       "GKSALxPbC68GZPRDmVn+VxSoA2gZl8I9Z6p6g/YlRVzs0yBXxCjgsAXkVLqwXFTpyZnyex36sIep\n",
       "3bw0Gx0g5/Kn6xlKIVgVcWAB3sWRI/uCDwEKQoojDSAnP2MlPvjY1nQ331FXbxs6V00N+5lyQLtS\n",
       "VTIkiOJn0L/1Oq2BRS9px8lCw9dfqWB5V+PsjJvvhbYNGvHN9+dah6zMWwAMSw7A5HCdCqF1c3OY\n",
       "o4H+d6eJj0T82Uy4mIHQSa1JSA8qAS65SBkwJAq1ms6blIQudHspecGAOicoozIxnd60SsrAVrRL\n",
       "kWPfubCE1kvQg0EYYn355cgAqF1mVLjEtLA+5DhK58AdRaLJKTzGRDiv574Js2Jm5EkB3UTF4qmR\n",
       "S0P/sCtsgiLKLp/iqhjgK0AR7ZaBmi5Qac8WwMouwyyERfmn1Jzz+h1ctiH3GsszOZe+u4gT01of\n",
       "slN7H9Y+aQAjfl8H8FSHUIM5t1r0hdfNg+hXkZBmKnf+oV8MqsOFFMaCfiFnaBcmINVI7ZMFy0By\n",
       "b21iU9PcpqIUrT/2SCv7BZCqF+ZEisrr4jQAAAEoQZ/3RREsO/8ABEUn0AEPCtYyqyvszZg6iuUj\n",
       "EX6tKE+HlQIcNkVKetjBIUIZfuaaOgp3mMsztOFn7ZIvBe3yPoExtn43iKrNpH5n8GhTRaJPA7Lf\n",
       "UK5YzI5Dewj/aKjMxjuycCDi9oegh7YiCRL4nr+bYXRSBErl6q1m6iMqU026IbLt0UlMkKjXq/A9\n",
       "wSAGZgdba/bAEl3y5ywGgToc0LFYAbMLIjxjuWS6162wMmldJ9MZXtW6Zap2xFtzdFisr92QQLLI\n",
       "1BYCQerrmlDdZAuioBAWxuTLGL2ylRyz7ItlJfDbP15AM3pMArwzQ2eUXjFznMDtUhZFFy++6JUG\n",
       "anSVvnu5E1UQw/CsuLiiv93DoedXsg+4G1XXBh8NDv0aB7p5+RLpJDkAAADFAZ4WdEN/AAZxCrQF\n",
       "yABD/NkD9/ENsyODgvRcNaJ9f7iTXQHH1H4hHky9Ik6mYTWI4iJzBkUQc9C4HT73uWeMW7K6hvBl\n",
       "zZfJVHK699VymhHRvz/HvV+CwY85s38RAPSzIAFYayshri/B/A0WOWoyRl/LuRfJjIqMWOE8waSz\n",
       "kpxYvzW+XI492RwJjujb+CiCn7m2okeEDMUGkwC5l0oBobOzBCpjJgRbi3xnp2a05HfefaDr0s5/\n",
       "beVF2A0g8IETtQPoU8EAAAB2AZ4YakN/AAZwAv2yagARB7f8vmE5Mka7ZpWxnu4HK8wTmAbvQ9ZP\n",
       "Ctz7zf73Tf3DGbF6xmt45lVGXzZkqR7YkjdupRzud17B4Tw2SJJSp1JTc67blXlQMs4L/HwO3u2O\n",
       "oWxNvfV2HtPF0kYk1GBWfsOkWMt90AAAApVBmh1JqEFsmUwII//+tSqAARhwRzACWUgbnI8q68/J\n",
       "1D6zDY+QvhVUahTnzDUBLsOzgvA4hNV7ljBXrfYF/ljbdbXgF4egIvU3TYbi0mo+K5+QDIUL623c\n",
       "svXZfaecO+mi9hEGe7A1wHvwR8tMPKG9EjYNKsBnzRrIF0ebiETlFq9mzUjSoPpy3Z7toU+ipbxu\n",
       "hc8fNyS1/oBGAvkrJve0r0hRDskVuygK9w/+G/5sh+kam/J5BeQA3t76AjxClHzeabNjBU87P0WC\n",
       "svAtdBKhvDivNUzWP5XQPPpYvzDd3CsAvfYXpxiwdX+C+lOX8vQa8VM1qYdgqSKt19N3mOxEyAku\n",
       "Oq4NRttpO1tWI9/Y0rGvQTr7r4fbGW6tw1pgK5u5wmoO0xGmoC5T6gXLG9CAqETXUkUhi3iK1sRg\n",
       "BGGUzxH2Deqgy4VlIE7TJpx/BXYSNBLEhdCnPXk598nGTw5hCGJLpAGqz6ByL43i+tpuEcT46f0m\n",
       "3Iwot7l54+fu5MM9NBXXbxOctmXfCcMFA6ae7ac9mJvZQbDvhT7JWquKGO0fUXVo65t6wfeETIZF\n",
       "B1MBkuNrQpiufxt51DG8vc4p7tV9ZlQ4RtCuK/I+2EFs6fOmVDJphcabICLMLYeqpiC/tUuQhFeS\n",
       "6Q35GxJ4XVqbmq3G4DOOMZO2ION555m1BCiMVcFImTHwzyHgoH6fDVNBPiI1k8QUiQqAb0uJYWfB\n",
       "smlckYduiX7HtIiXbpNdrRGiLOOxHWObrUrbdbK9CX6gIcXeN3yKSFgveg14cpb/9U3fPlsdEFRJ\n",
       "BWf2uxQ1H62J/iZeDWRAVa1hCOSWf6GTKCrUGcTmoyeRltopJdaAowjzTy6T8C6chMaKww7aF5L0\n",
       "0wnJAAAAwkGeO0UVLDv/AARFJ9ABDlJKPw731ofLn0ygLoBYd2jK8Kk+NiwpzN+lhmg1eJpLhs6i\n",
       "8IBkVp9SsaPzaSMVVdjouzAJ9QDbi6kYE4j68FPBDeY/4ZJOLk0ndm7a8YbH0qbCSrBjRp3wW8G8\n",
       "gygx9droTSJ2mk2ufTucAGSf8exJyhCHdvVVregUuGgyTP11efDcSVzxYiMxHjnGpCmJdLpEZkiL\n",
       "dlQfUG9YRCDQq1L2BfW+JemaeuwftIY5IlmBQoWhAAAALgGeWnRDfwAGcQqw/atdPN6SmtVlT1fv\n",
       "ZRbgTB7EU0yHJRaR2GTwHUzzlXA8b/EAAAA1AZ5cakN/AAZwA0FmZHBt70DyundAs5WXs5I3y1rE\n",
       "c5i9URHSDqcGNPewYgYNuMiTeBpu05EAAAJ/QZpBSahBbJlMCCH//qpVAAJAgPgAEtXnJTq0gxYS\n",
       "N7w7WWXwbDr5Tx6Gz8jv9oSFCHOZSX4IkCxzX9QFgn5W/ODeLtrBPn4f17pJTsyO+gU5AoxB23Bl\n",
       "gahJdhbd6kaVgW8vmecSeXju3XeNPx52NqTC2NEQJj1foEvJ+ihmBHD9qJr+8x2vxRjTzXBAbPYw\n",
       "6fOkHICVwlG5dVFRpWIYpUeQouJCzYJ+SWH0mBxXndnGniU8Sm3VxwZFoRpG+xUgIbamTCemcL5y\n",
       "T8Ti8E0kZxjlZdx6qeiRM/6iri2rKN/E+0yrX9N/3BPm6ICIE5/zYSIXj33Is1OJv0nA1EMXUOSP\n",
       "ZkjQqV1CipRIHEKUzfb+35TF/qczm4M3RWEpqW1Ik0mVcbXN9lOhsX63qetuazI1z7WIe2xUg8WI\n",
       "+BSEpwaPWKcxGjQYayCk5krEMvGz+0EHjl+1opfuYI9oJlXk7kYErDs3nAD7XNsEFtfJxOPOeaUh\n",
       "IdQBO0nbAlYsae6ImWTDNhIa1VOcLXTaz8Rj2InsZE1razzLX9f60Uvq9wv/3R2oCippxHrENXr6\n",
       "j9UTa3lkhG0t+I/eDSMS4XxPVpwNqa/T9Jl8+L6fch02JHQi7j6DIz3TpWnju14LcoIcFUI6kHsb\n",
       "3YlalSIrqqRaOzAHbEAj/Og0LSnNYi+QQJb2H29XJu4PYqIiOKuMnGVCa0ViVwz3WnmfzNcb7i0k\n",
       "rg4O/ch8Po8u/Y4tNWywPR1B/3E7NPVcSQAX4Mo7tnVhBR7B+zqMxhRzoFsK1BCzEALYXfIJwTeo\n",
       "r5rBa2M0yBeCrjxnpUAfRvkCOk//+ktc/nuj/K3uKOYYb1TXM8U2AAAAiEGef0UVLDv/AARFJ9AB\n",
       "D+mh2cbB2RX3iigQFEapfKmML5QiHykyA/3QcaMjT/Yx5HE1ae8wRKO+PfpJtoyDbsFQ2X3QXr7W\n",
       "GU2v89Yi9v1+17o3RnG+tKxZ3qsWIzD5RZ5ncbCAG2FOtu6EyGIOUfibC62t95RhJMX9uGusl647\n",
       "42/1umzeL6AAAAArAZ6edEN/AAE+iWuX8vypzep2akxYSHBpIiR6TKJiHEXbNQaQU/rPeOYLiQAA\n",
       "ACsBnoBqQ38AAT6YIpvHXeEYb/jwUyWhKvO+FPl8zS8EIcry1fXvpiLiBdWQAAACBEGahUmoQWyZ\n",
       "TAh///6plgAIwe20AE7fHlMpXwyzc77jD87rRQXkuDS69A7eZkdkSPM61+SQSMzuvnSgFLVGlpcL\n",
       "gNZRnbq0oiQxdQLgttVfdpitEmy6n4luhrvHb+Fw3D45A25UnRzOancdIaN5lbROKW6nc7g/lp1V\n",
       "0UYrQAgQSlnt4+MZTkb53drx7XcVXpLC/0YuIMrlbsmKWEESKqr5qxVV9lozqrFDdluMLTRf9ouF\n",
       "qQiYzgmFqKBMVUH81OBACB/F6ZiqMPFX2bINV04xxzufsST0SHDdPV6Y9HA7d9UeZdiTKxPEVEZQ\n",
       "MVCAKtvKu6UscOyp+98SOPj9GbL+8iuESEHpL8NCoEd7Fj0Jxb0vwxbTL0JwrJi7KZqhyKf2vprq\n",
       "f5QwlnE8hDgWqcgyOtHIAszDZAH5Jb1OUQoJ3xFVrcDha2yZptcKvc08yU9jgiiUZvwT5uqIOg2Y\n",
       "krQI2V3nSJhPjtKeXEMRfixZnvnVBP5icEWNVmhD+5sRG570ZbFvzQtuU5as5Wi6XEhD052Gpemi\n",
       "bsy/8N8JLA+94in6QVt9QROedqyL022fjJUbF2pIuH9DJMJzMSbb9b5z6hjlDkEEYzCBhpQ6570Y\n",
       "h9LEPgHMLDpwY4W0Dp+wJ3k8pm/fWI0o3sGP0v+Hf3yNmWPH7c8fA2Ha3qlT7qJmuy4+sQAAAJZB\n",
       "nqNFFSw7/wAB9WQwATs8bzHEqKsWcYUmFJrWyy9vHzkMGZlt3klKP4V2gNw368XqOU0ls/HmqO+g\n",
       "hPi+YSE45R32mH/CjNSPmuIlVlqF5YGuWc9Ccaw7oMQdazVy7v+87O6Xua6JBaa5DuXdxjGOtE7J\n",
       "W5hR+nO7aStIuNREtd5FZvgZQBRwd7hIdkQgzjwja5W2t9cAAAAcAZ7CdEN/AACavrNgk/YcS+8k\n",
       "3UYmn5qENqfC+wAAACEBnsRqQ38ABkgDQYG3UC0brcfWfF6yYZJIgak1MklU3oEAAACyQZrHSahB\n",
       "bJlMFEw3//6nhAAQ0yCuADmszEXX+nNUIciHzcrkjQ1jRhlhOGdmCyquuCrTUIZyh8QThS0KnTdI\n",
       "2BDHubVV6WmLJtbOSlZ2zNxXYc7U2Jt7RFHHxWtnuYdCw1ioZHYh/qcWB7bn0orZra/56cBiYOUX\n",
       "dHRRvZ4VermTwXGmH0Vhbzj/A7DhFkJvNJgbYN+Ka4RJzNNLOsjKdLH3kLeOQ51/FjYGdiYJqYBX\n",
       "wQAAACABnuZqQ38AAUd6EjJLvtCa1UxI0B80jF0g8cOrgbUVjQAABOdtb292AAAAbG12aGQAAAAA\n",
       "AAAAAAAAAAAAAAPoAAAPoAABAAABAAAAAAAAAAAAAAAAAQAAAAAAAAAAAAAAAAAAAAEAAAAAAAAA\n",
       "AAAAAAAAAEAAAAAAAAAAAAAAAAAAAAAAAAAAAAAAAAAAAAAAAAACAAAEEXRyYWsAAABcdGtoZAAA\n",
       "AAMAAAAAAAAAAAAAAAEAAAAAAAAPoAAAAAAAAAAAAAAAAAAAAAAAAQAAAAAAAAAAAAAAAAAAAAEA\n",
       "AAAAAAAAAAAAAAAAAEAAAAAB9AAAAZAAAAAAACRlZHRzAAAAHGVsc3QAAAAAAAAAAQAAD6AAAAgA\n",
       "AAEAAAAAA4ltZGlhAAAAIG1kaGQAAAAAAAAAAAAAAAAAACgAAACgAFXEAAAAAAAtaGRscgAAAAAA\n",
       "AAAAdmlkZQAAAAAAAAAAAAAAAFZpZGVvSGFuZGxlcgAAAAM0bWluZgAAABR2bWhkAAAAAQAAAAAA\n",
       "AAAAAAAAJGRpbmYAAAAcZHJlZgAAAAAAAAABAAAADHVybCAAAAABAAAC9HN0YmwAAAC0c3RzZAAA\n",
       "AAAAAAABAAAApGF2YzEAAAAAAAAAAQAAAAAAAAAAAAAAAAAAAAAB9AGQAEgAAABIAAAAAAAAAAEA\n",
       "AAAAAAAAAAAAAAAAAAAAAAAAAAAAAAAAAAAAAAAAAAAY//8AAAAyYXZjQwFkABb/4QAZZ2QAFqzZ\n",
       "QIAz5+EAAAMAAQAAAwAUDxYtlgEABmjr48siwAAAABx1dWlka2hA8l8kT8W6OaUbzwMj8wAAAAAA\n",
       "AAAYc3R0cwAAAAAAAAABAAAAKAAABAAAAAAUc3RzcwAAAAAAAAABAAAAAQAAAShjdHRzAAAAAAAA\n",
       "ACMAAAAGAAAIAAAAAAEAAAwAAAAAAQAABAAAAAABAAAUAAAAAAEAAAgAAAAAAQAAAAAAAAABAAAE\n",
       "AAAAAAEAABQAAAAAAQAACAAAAAABAAAAAAAAAAEAAAQAAAAAAQAADAAAAAABAAAEAAAAAAEAABQA\n",
       "AAAAAQAACAAAAAABAAAAAAAAAAEAAAQAAAAAAQAAFAAAAAABAAAIAAAAAAEAAAAAAAAAAQAABAAA\n",
       "AAABAAAUAAAAAAEAAAgAAAAAAQAAAAAAAAABAAAEAAAAAAEAABQAAAAAAQAACAAAAAABAAAAAAAA\n",
       "AAEAAAQAAAAAAQAAFAAAAAABAAAIAAAAAAEAAAAAAAAAAQAABAAAAAABAAAMAAAAAAEAAAQAAAAA\n",
       "HHN0c2MAAAAAAAAAAQAAAAEAAAAoAAAAAQAAALRzdHN6AAAAAAAAAAAAAAAoAAAbPwAABqcAAAOE\n",
       "AAADMQAAAkoAAAL+AAADcQAAAYkAAARvAAAClAAAAgMAAAIWAAAFfwAAAxoAAAHhAAAB5AAABPIA\n",
       "AAG5AAAFEAAAAfgAAAEgAAAA+QAAA4gAAAEsAAAAyQAAAHoAAAKZAAAAxgAAADIAAAA5AAACgwAA\n",
       "AIwAAAAvAAAALwAAAggAAACaAAAAIAAAACUAAAC2AAAAJAAAABRzdGNvAAAAAAAAAAEAAAAsAAAA\n",
       "YnVkdGEAAABabWV0YQAAAAAAAAAhaGRscgAAAAAAAAAAbWRpcmFwcGwAAAAAAAAAAAAAAAAtaWxz\n",
       "dAAAACWpdG9vAAAAHWRhdGEAAAABAAAAAExhdmY1Ny40MS4xMDA=\n",
       "\">\n",
       "  Your browser does not support the video tag.\n",
       "</video>"
      ],
      "text/plain": [
       "<matplotlib.animation.FuncAnimation at 0x7f1ac6079850>"
      ]
     },
     "execution_count": 41,
     "metadata": {},
     "output_type": "execute_result"
    }
   ],
   "source": [
    "fig = plt.figure(dpi=100, figsize=(5,4))\n",
    "plt.scatter(x,y)\n",
    "# By adding the comma to the assignment target list, you ask Python to unpack the return value and assign it to each variable named to the left in turn.\n",
    "line, = plt.plot(x, lin(a_guess, b_guess, x))\n",
    "plt.close()\n",
    "\n",
    "def animate(i):\n",
    "    line.set_ydata(lin(a_guess, b_guess, x))\n",
    "    for i in range(10): update_fn()\n",
    "    return line,\n",
    "\n",
    "ani = animation.FuncAnimation(fig, animate, np.arange(0,40), interval=100)\n",
    "ani"
   ]
  },
  {
   "cell_type": "code",
   "execution_count": 36,
   "metadata": {
    "collapsed": false
   },
   "outputs": [
    {
     "data": {
      "text/plain": [
       "array([[ 0.9134,  0.732 ],\n",
       "       [ 0.5096,  0.4125],\n",
       "       [ 0.4835,  0.9712],\n",
       "       [ 0.2988,  0.4624],\n",
       "       [ 0.9456,  0.4458],\n",
       "       [ 0.1652,  0.0622],\n",
       "       [ 0.1597,  0.8958],\n",
       "       [ 0.369 ,  0.753 ],\n",
       "       [ 0.3747,  0.881 ],\n",
       "       [ 0.2032,  0.7652],\n",
       "       [ 0.3948,  0.5539],\n",
       "       [ 0.1512,  0.7639],\n",
       "       [ 0.7255,  0.1855],\n",
       "       [ 0.6087,  0.5222],\n",
       "       [ 0.9133,  0.8519],\n",
       "       [ 0.2964,  0.226 ],\n",
       "       [ 0.8361,  0.6725],\n",
       "       [ 0.03  ,  0.633 ],\n",
       "       [ 0.1771,  0.2983],\n",
       "       [ 0.7096,  0.6603],\n",
       "       [ 0.8954,  0.8288],\n",
       "       [ 0.445 ,  0.649 ],\n",
       "       [ 0.6753,  0.0942],\n",
       "       [ 0.1369,  0.8148],\n",
       "       [ 0.0662,  0.4476],\n",
       "       [ 0.4229,  0.1754],\n",
       "       [ 0.4638,  0.257 ],\n",
       "       [ 0.722 ,  0.9069],\n",
       "       [ 0.9696,  0.2833],\n",
       "       [ 0.5909,  0.7839]])"
      ]
     },
     "execution_count": 36,
     "metadata": {},
     "output_type": "execute_result"
    }
   ],
   "source": [
    "import os, json\n",
    "from glob import glob\n",
    "import numpy as np\n",
    "import scipy\n",
    "from sklearn.preprocessing import OneHotEncoder\n",
    "from sklearn.metrics import confusion_matrix\n",
    "np.set_printoptions(precision=4, linewidth=100)\n",
    "from matplotlib import pyplot as plt\n",
    "import utils; reload(utils)\n",
    "from utils import *\n",
    "\n",
    "\n",
    "from numpy.random import random, permutation\n",
    "from scipy import misc, ndimage\n",
    "from scipy.ndimage.interpolation import zoom\n",
    "\n",
    "import keras\n",
    "from keras import backend as K\n",
    "from keras.utils.data_utils import get_file\n",
    "from keras.models import Sequential\n",
    "from keras.layers import Input\n",
    "from keras.layers.core import Flatten, Dense, Dropout, Lambda\n",
    "from keras.layers.convolutional import Convolution2D, MaxPooling2D, ZeroPadding2D\n",
    "from keras.optimizers import SGD, RMSprop\n",
    "from keras.preprocessing import image\n",
    "\n",
    "a = random((30,2))\n",
    "b = np.dot(a, [2., 3.]) + 1\n",
    "a"
   ]
  },
  {
   "cell_type": "code",
   "execution_count": 37,
   "metadata": {
    "collapsed": false
   },
   "outputs": [
    {
     "data": {
      "text/plain": [
       "array([ 5.0226,  3.2565,  4.8807,  2.9849,  4.2286,  1.5171,  4.0066,  3.997 ,  4.3922,  3.7018,\n",
       "        3.4511,  3.594 ,  3.0075,  3.7841,  5.3824,  2.2706,  4.6897,  2.9592,  2.2491,  4.4   ,\n",
       "        5.2773,  3.8369,  2.6333,  3.7184,  2.4754,  2.3718,  2.6985,  5.1646,  3.7891,  4.5335])"
      ]
     },
     "execution_count": 37,
     "metadata": {},
     "output_type": "execute_result"
    }
   ],
   "source": [
    "b"
   ]
  },
  {
   "cell_type": "code",
   "execution_count": 38,
   "metadata": {
    "collapsed": false
   },
   "outputs": [
    {
     "data": {
      "text/plain": [
       "14.74066162109375"
      ]
     },
     "execution_count": 38,
     "metadata": {},
     "output_type": "execute_result"
    }
   ],
   "source": [
    "lm = Sequential([ Dense(1, input_shape=(2,))])\n",
    "lm.compile(optimizer=SGD(lr=0.1), loss='mse')\n",
    "\n",
    "lm.evaluate(a, b, verbose=0)"
   ]
  },
  {
   "cell_type": "code",
   "execution_count": 22,
   "metadata": {
    "collapsed": false
   },
   "outputs": [
    {
     "name": "stdout",
     "output_type": "stream",
     "text": [
      "Epoch 1/10\n",
      "30/30 [==============================] - 0s - loss: 0.0032     e-04\b\b\b\b\b\b\b\b\b\b\b\b\b\b\b\b\b\b\b\b\b\b\b\b\b\b\b\b\b\b\b\b\b\b\b\b\b\b\b\b\b\b\b\b\b\b\b\b\b\b\b\b\b\b\b\b\b\b\b\b\b\b\b\b\b\b\b12/30 [===========>..................] - ETA: 0s - loss: 0.0042    \b\b\b\b\b\b\b\b\b\b\b\b\b\b\b\b\b\b\b\b\b\b\b\b\b\b\b\b\b\b\b\b\b\b\b\b\b\b\b\b\b\b\b\b\b\b\b\b\b\b\b\b\b\b\b\b\b\b\b\b\b\b\b\b\b\b\b\b\b\b\b\b\b\b\b\b\b\b\b\b\b\b\b\b\b\b\b\b\b\b\b\b\b\b\b\b\b\b\b\b\b\b\b\b\b\b\b\b\b\b\b\b\b\b\b\b\b\b\b\b\b\b\b\b\b\b\n",
      "Epoch 2/10\n",
      "30/30 [==============================] - 0s - loss: 0.0018     \b\b\b\b\b\b\b\b\b\b\b\b\b\b\b\b\b\b\b\b\b\b\b\b\b\b\b\b\b\b\b\b\b\b\b\b\b\b\b\b\b\b\b\b\b\b\b\b\b\b\b\b\b\b\b\b\b\b\b\b\b\b\b\b\b\b\b\b\b\b\b\b\b\b\b\b\b\b\b\b\b\b\b\b\b\b\b\b\b\b\b\b\b\b\b\b\b\b\b\b\b\b\b\b\b\b\b\b\b\b\b\b\b\b\b\b\b\b\b\b\b\b\b\b\b\b\b\b\b\b\b\b\b\b\b\b\b\b\b\b\b\b\b\b\b\b\b\b\b\b\b\b\b\b\b\b\b\b\b\b\b\b\b\b\b\b\b\b\b\b\b\b\b\b\b\b\b\b\b\b\b\b\b\b\b\b\b\b\b\n",
      "Epoch 3/10\n",
      "30/30 [==============================] - 0s - loss: 9.3697e-04     \b\b\b\b\b\b\b\b\b\b\b\b\b\b\b\b\b\b\b\b\b\b\b\b\b\b\b\b\b\b\b\b\b\b\b\b\b\b\b\b\b\b\b\b\b\b\b\b\b\b\b\b\b\b\b\b\b\b\b\b\b\b\b\b\b\b\b\b\b\b\b\b\b\b\b\b\b\b\b\b\b\b\b\b\b\b\b\b\b\b\b\b\b\b\b\b\b\b\b\b\b\b\b\b\b\b\b\b\b\b\b\b\b\b\b\b\b\b\b\b\b\b\b\b\b\b\b\b\b\b\b\b\b\b\b\b\b\b\b\b\b\b\b\b\b\b\b\b\b\b\b\b\b\b\b\b\b\b\b\b\b\b\b\b\b\b\b\b\b\b\b\b\b\b\b\b\b\b\b\b\b\b\b\b\b\b\b\b\b\n",
      "Epoch 4/10\n",
      "30/30 [==============================] - 0s - loss: 5.2146e-04     \b\b\b\b\b\b\b\b\b\b\b\b\b\b\b\b\b\b\b\b\b\b\b\b\b\b\b\b\b\b\b\b\b\b\b\b\b\b\b\b\b\b\b\b\b\b\b\b\b\b\b\b\b\b\b\b\b\b\b\b\b\b\b\b\b\b\b\b\b\b\b\b\b\b\b\b\b\b\b\b\b\b\b\b\b\b\b\b\b\b\b\b\b\b\b\b\b\b\b\b\b\b\b\b\b\b\b\b\b\b\b\b\b\b\b\b\b\b\b\b\b\b\b\b\b\b\b\b\b\b\b\b\b\b\b\b\b\b\b\b\b\b\b\b\b\b\b\b\b\b\b\b\b\b\b\b\b\b\b\b\b\b\b\b\b\b\b\b\b\b\b\b\b\b\b\b\b\b\b\b\b\b\b\b\b\b\b\b\b\b\b\b\b\b\b\b\b\b\b\b\b\n",
      "Epoch 5/10\n",
      "30/30 [==============================] - 0s - loss: 3.0531e-04     \b\b\b\b\b\b\b\b\b\b\b\b\b\b\b\b\b\b\b\b\b\b\b\b\b\b\b\b\b\b\b\b\b\b\b\b\b\b\b\b\b\b\b\b\b\b\b\b\b\b\b\b\b\b\b\b\b\b\b\b\b\b\b\b\b\b\b\b\b\b\b\b\b\b\b\b\b\b\b\b\b\b\b\b\b\b\b\b\b\b\b\b\b\b\b\b\b\b\b\b\b\b\b\b\b\b\b\b\b\b\b\b\b\b\b\b\b\b\b\b\b\b\b\b\b\b\b\b\b\b\b\b\b\b\b\b\b\b\b\b\b\b\b\b\b\b\b\b\b\b\b\b\b\b\b\b\b\b\b\b\b\b\b\b\b\b\b\b\b\b\b\b\b\b\b\b\b\b\b\b\b\b\b\b\b\b\b\b\b\b\b\b\b\b\b\b\b\b\b\b\b\n",
      "Epoch 6/10\n",
      "30/30 [==============================] - 0s - loss: 1.6244e-04     \b\b\b\b\b\b\b\b\b\b\b\b\b\b\b\b\b\b\b\b\b\b\b\b\b\b\b\b\b\b\b\b\b\b\b\b\b\b\b\b\b\b\b\b\b\b\b\b\b\b\b\b\b\b\b\b\b\b\b\b\b\b\b\b\b\b\b\b\b\b\b\b\b\b\b\b\b\b\b\b\b\b\b\b\b\b\b\b\b\b\b\b\b\b\b\b\b\b\b\b\b\b\b\b\b\b\b\b\b\b\b\b\b\b\b\b\b\b\b\b\b\b\b\b\b\b\b\b\b\b\b\b\b\b\b\b\b\b\b\b\b\b\b\b\b\b\b\b\b\b\b\b\b\b\b\b\b\b\b\b\b\b\b\b\b\b\b\b\b\b\b\b\b\b\b\b\b\b\b\b\b\b\b\b\b\b\b\b\b\b\b\b\b\b\b\b\b\b\b\b\b\n",
      "Epoch 7/10\n",
      "30/30 [==============================] - 0s - loss: 9.1697e-05     \b\b\b\b\b\b\b\b\b\b\b\b\b\b\b\b\b\b\b\b\b\b\b\b\b\b\b\b\b\b\b\b\b\b\b\b\b\b\b\b\b\b\b\b\b\b\b\b\b\b\b\b\b\b\b\b\b\b\b\b\b\b\b\b\b\b\b\b\b\b\b\b\b\b\b\b\b\b\b\b\b\b\b\b\b\b\b\b\b\b\b\b\b\b\b\b\b\b\b\b\b\b\b\b\b\b\b\b\b\b\b\b\b\b\b\b\b\b\b\b\b\b\b\b\b\b\b\b\b\b\b\b\b\b\b\b\b\b\b\b\b\b\b\b\b\b\b\b\b\b\b\b\b\b\b\b\b\b\b\b\b\b\b\b\b\b\b\b\b\b\b\b\b\b\b\b\b\b\b\b\b\b\b\b\b\b\b\b\b\b\b\b\b\b\b\b\b\b\b\b\b\n",
      "Epoch 8/10\n",
      "30/30 [==============================] - 0s - loss: 4.9621e-05     \b\b\b\b\b\b\b\b\b\b\b\b\b\b\b\b\b\b\b\b\b\b\b\b\b\b\b\b\b\b\b\b\b\b\b\b\b\b\b\b\b\b\b\b\b\b\b\b\b\b\b\b\b\b\b\b\b\b\b\b\b\b\b\b\b\b\b\b\b\b\b\b\b\b\b\b\b\b\b\b\b\b\b\b\b\b\b\b\b\b\b\b\b\b\b\b\b\b\b\b\b\b\b\b\b\b\b\b\b\b\b\b\b\b\b\b\b\b\b\b\b\b\b\b\b\b\b\b\b\b\b\b\b\b\b\b\b\b\b\b\b\b\b\b\b\b\b\b\b\b\b\b\b\b\b\b\b\b\b\b\b\b\b\b\b\b\b\b\b\b\b\b\b\b\b\b\b\b\b\b\b\b\b\b\b\b\b\b\b\b\b\b\b\b\b\b\b\b\b\b\b\n",
      "Epoch 9/10\n",
      "30/30 [==============================] - 0s - loss: 2.7511e-05     \b\b\b\b\b\b\b\b\b\b\b\b\b\b\b\b\b\b\b\b\b\b\b\b\b\b\b\b\b\b\b\b\b\b\b\b\b\b\b\b\b\b\b\b\b\b\b\b\b\b\b\b\b\b\b\b\b\b\b\b\b\b\b\b\b\b\b\b\b\b\b\b\b\b\b\b\b\b\b\b\b\b\b\b\b\b\b\b\b\b\b\b\b\b\b\b\b\b\b\b\b\b\b\b\b\b\b\b\b\b\b\b\b\b\b\b\b\b\b\b\b\b\b\b\b\b\b\b\b\b\b\b\b\b\b\b\b\b\b\b\b\b\b\b\b\b\b\b\b\b\b\b\b\b\b\b\b\b\b\b\b\b\b\b\b\b\b\b\b\b\b\b\b\b\b\b\b\b\b\b\b\b\b\b\b\b\b\b\b\b\b\b\b\b\b\b\b\b\b\b\b\n",
      "Epoch 10/10\n",
      "30/30 [==============================] - 0s - loss: 1.4773e-05     \b\b\b\b\b\b\b\b\b\b\b\b\b\b\b\b\b\b\b\b\b\b\b\b\b\b\b\b\b\b\b\b\b\b\b\b\b\b\b\b\b\b\b\b\b\b\b\b\b\b\b\b\b\b\b\b\b\b\b\b\b\b\b\b\b\b\b\b\b\b\b\b\b\b\b\b\b\b\b\b\b\b\b\b\b\b\b\b\b\b\b\b\b\b\b\b\b\b\b\b\b\b\b\b\b\b\b\b\b\b\b\b\b\b\b\b\b\b\b\b\b\b\b\b\b\b\b\b\b\b\b\b\b\b\b\b\b\b\b\b\b\b\b\b\b\b\b\b\b\b\b\b\b\b\b\b\b\b\b\b\b\b\b\b\b\b\b\b\b\b\b\b\b\b\b\b\b\b\b\b\b\b\b\b\b\b\b\b\b\b\b\b\b\b\b\b\b\b\b\b\b\n"
     ]
    },
    {
     "data": {
      "text/plain": [
       "<keras.callbacks.History at 0x7f55b17cda90>"
      ]
     },
     "execution_count": 22,
     "metadata": {},
     "output_type": "execute_result"
    }
   ],
   "source": [
    "lm.fit(a,b, nb_epoch=10, batch_size=1)"
   ]
  },
  {
   "cell_type": "code",
   "execution_count": 23,
   "metadata": {
    "collapsed": false
   },
   "outputs": [
    {
     "data": {
      "text/plain": [
       "1.5762901966809295e-05"
      ]
     },
     "execution_count": 23,
     "metadata": {},
     "output_type": "execute_result"
    }
   ],
   "source": [
    "lm.evaluate(a, b, verbose=0)"
   ]
  },
  {
   "cell_type": "code",
   "execution_count": 24,
   "metadata": {
    "collapsed": false
   },
   "outputs": [
    {
     "data": {
      "text/plain": [
       "[array([[ 1.9948],\n",
       "        [ 2.9926]], dtype=float32), array([ 1.0098], dtype=float32)]"
      ]
     },
     "execution_count": 24,
     "metadata": {},
     "output_type": "execute_result"
    }
   ],
   "source": [
    "lm.get_weights()"
   ]
  },
  {
   "cell_type": "code",
   "execution_count": null,
   "metadata": {
    "collapsed": true
   },
   "outputs": [],
   "source": []
  }
 ],
 "metadata": {
  "anaconda-cloud": {},
  "kernelspec": {
   "display_name": "Python [conda root]",
   "language": "python",
   "name": "conda-root-py"
  },
  "language_info": {
   "codemirror_mode": {
    "name": "ipython",
    "version": 2
   },
   "file_extension": ".py",
   "mimetype": "text/x-python",
   "name": "python",
   "nbconvert_exporter": "python",
   "pygments_lexer": "ipython2",
   "version": "2.7.13"
  }
 },
 "nbformat": 4,
 "nbformat_minor": 2
}
